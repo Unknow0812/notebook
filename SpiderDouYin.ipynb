{
 "cells": [
  {
   "cell_type": "markdown",
   "metadata": {
    "hide_input": true
   },
   "source": [
    "# 导入库"
   ]
  },
  {
   "cell_type": "code",
   "execution_count": 1,
   "metadata": {
    "collapsed": true,
    "hide_input": false
   },
   "outputs": [],
   "source": [
    "import urllib.request\n",
    "import json\n",
    "from moviepy.editor import *"
   ]
  },
  {
   "cell_type": "markdown",
   "metadata": {},
   "source": [
    "# 获取视频url"
   ]
  },
  {
   "cell_type": "code",
   "execution_count": 24,
   "metadata": {
    "collapsed": true
   },
   "outputs": [],
   "source": [
    "url = '''\n",
    "https://www.iesdouyin.com/aweme/v1/aweme/post/?user_id=93949172220&count=21&max_cursor=1551951355000&aid=1128&_signature=AVusTRAYXgGrdOzNHM-hXAFbrF&dytk=5710796ba7e44bcfc1be3cd5371835f6\n",
    "\n",
    "\n",
    "\n",
    "\n",
    "'''\n",
    "r = urllib.request.Request(url)\n",
    "user_agent = 'Mozilla/5.0 (iPhone; CPU iPhone OS 11_0 like Mac OS X) AppleWebKit/604.1.38 (KHTML, like Gecko) Version/11.0 Mobile/15A372 Safari/604.1'\n",
    "cookie = 'tt_webid=6661489703391446541; _ba=BA0.2-20190224-5199e-D7C8xfEkeojoFAyMN7BC; _ga=GA1.2.314140063.1550998952; _gid=GA1.2.1300975907.1550998952'\n",
    "r.add_header('User-Agent', user_agent)\n",
    "r.add_header('Cookie', cookie)\n",
    "html = urllib.request.urlopen(r, timeout=500).read()"
   ]
  },
  {
   "cell_type": "code",
   "execution_count": 25,
   "metadata": {
    "collapsed": true
   },
   "outputs": [],
   "source": [
    "html = html.decode('utf-8')"
   ]
  },
  {
   "cell_type": "code",
   "execution_count": 26,
   "metadata": {
    "collapsed": false,
    "scrolled": true
   },
   "outputs": [
    {
     "data": {
      "text/plain": [
       "'{\"has_more\": 1, \"status_code\": 0, \"min_cursor\": 1551880823000, \"aweme_list\": [{\"text_extra\": [{\"start\": 44, \"end\": 47, \"hashtag_name\": \"\\\\u97f3\\\\u4e50\", \"type\": 1}], \"statistics\": {\"forward_count\": 0, \"digg_count\": \"7.4w\", \"aweme_id\": \"6664936856876043524\"}, \"music\": {}, \"author\": {}, \"cha_list\": {}, \"share_info\": {\"share_weibo_desc\": \"#\\\\u5728\\\\u6296\\\\u97f3\\\\uff0c\\\\u8bb0\\\\u5f55\\\\u7f8e\\\\u597d\\\\u751f\\\\u6d3b# @\\\\u6296\\\\u97f3\\\\u73a9\\\\u5bb6 \\\\u53d1\\\\u4e86\\\\u4e00\\\\u4e2a\\\\u6296\\\\u97f3\\\\u77ed\\\\u89c6\\\\u9891\\\\uff0c\\\\u4f60\\\\u5c3d\\\\u7ba1\\\\u70b9\\\\u5f00\\\\uff0c\\\\u4e0d\\\\u597d\\\\u770b\\\\u7b97\\\\u6211\\\\u8f93\\\\uff01\\\\u6233\\\\u8fd9\\\\u91cc>>\", \"share_title\": \"@\\\\u6296\\\\u97f3\\\\u73a9\\\\u5bb6\\\\u53d1\\\\u4e86\\\\u4e00\\\\u4e2a\\\\u6296\\\\u97f3\\\\u77ed\\\\u89c6\\\\u9891\\\\uff0c\\\\u4f60\\\\u5c3d\\\\u7ba1\\\\u70b9\\\\u5f00\\\\uff0c\\\\u4e0d\\\\u597d\\\\u770b\\\\u7b97\\\\u6211\\\\u8f93\\\\uff01\", \"share_url\": \"https://www.amemv.com/share/video/6664936856876043524\", \"share_desc\": \"\\\\u6bcf\\\\u6b21\\\\u542c\\\\u8fd9\\\\u6b4c\\\\u90fd\\\\u5fcd\\\\u4e0d\\\\u4f4f\\\\u7684\\\\u96be\\\\u8fc7\\\\u2026\\\\u2026\\\\u4f60\\\\u4eec\\\\u53ef\\\\u80fd\\\\u90fd\\\\u4ee5\\\\u4e3a\\\\u662f\\\\u60c5\\\\u6b4c\\\\uff0c\\\\u77e5\\\\u9053\\\\u771f\\\\u76f8\\\\u540e\\\\u4f60\\\\u4eec\\\\u4f1a\\\\u70b9\\\\u8d5e\\\\u7684\\\\uff01\\\\u8ba9\\\\u5b83\\\\u706b\\\\u8d77\\\\u6765\\\\u5427\\\\uff01#\\\\u97f3\\\\u4e50\"}, \"share_url\": \"\", \"aweme_type\": 0, \"video\": {\"play_addr\": {\"url_list\": [\"https://aweme.snssdk.com/aweme/v1/playwm/?video_id=v0300f520000bhvt35d0157mr0fucq5g&line=0\", \"https://aweme.snssdk.com/aweme/v1/playwm/?video_id=v0300f520000bhvt35d0157mr0fucq5g&line=1\"], \"uri\": \"v0300f520000bhvt35d0157mr0fucq5g\"}, \"height\": 1280, \"cover\": {\"url_list\": [\"https://p1.pstatp.com/large/1ba330002814e2f29aa14.jpg\", \"https://pb3.pstatp.com/large/1ba330002814e2f29aa14.jpg\", \"https://pb3.pstatp.com/large/1ba330002814e2f29aa14.jpg\"], \"uri\": \"large/1ba330002814e2f29aa14\"}, \"dynamic_cover\": {\"url_list\": [\"http://p3.pstatp.com/obj/1bc490007bfadf389a381\", \"http://pb9.pstatp.com/obj/1bc490007bfadf389a381\", \"http://pb3.pstatp.com/obj/1bc490007bfadf389a381\"], \"uri\": \"1bc490007bfadf389a381\"}, \"width\": 720}, \"media_type\": 4, \"aweme_id\": \"6664936856876043524\"}, {\"text_extra\": [{\"start\": 30, \"end\": 33, \"hashtag_name\": \"\\\\u97f3\\\\u4e50\", \"type\": 1}, {\"start\": 35, \"end\": 38, \"hashtag_name\": \"\\\\u8fc7\\\\u5ba2\", \"type\": 1}, {\"start\": 38, \"end\": 41, \"hashtag_name\": \"\\\\u6b4c\\\\u66f2\", \"type\": 1}], \"statistics\": {\"forward_count\": 0, \"digg_count\": \"2.4w\", \"aweme_id\": \"6664918303322017027\"}, \"music\": {}, \"author\": {}, \"cha_list\": {}, \"share_info\": {\"share_weibo_desc\": \"#\\\\u5728\\\\u6296\\\\u97f3\\\\uff0c\\\\u8bb0\\\\u5f55\\\\u7f8e\\\\u597d\\\\u751f\\\\u6d3b# @\\\\u6296\\\\u97f3\\\\u73a9\\\\u5bb6 \\\\u53d1\\\\u4e86\\\\u4e00\\\\u4e2a\\\\u6296\\\\u97f3\\\\u77ed\\\\u89c6\\\\u9891\\\\uff0c\\\\u4f60\\\\u5c3d\\\\u7ba1\\\\u70b9\\\\u5f00\\\\uff0c\\\\u4e0d\\\\u597d\\\\u770b\\\\u7b97\\\\u6211\\\\u8f93\\\\uff01\\\\u6233\\\\u8fd9\\\\u91cc>>\", \"share_title\": \"@\\\\u6296\\\\u97f3\\\\u73a9\\\\u5bb6\\\\u53d1\\\\u4e86\\\\u4e00\\\\u4e2a\\\\u6296\\\\u97f3\\\\u77ed\\\\u89c6\\\\u9891\\\\uff0c\\\\u4f60\\\\u5c3d\\\\u7ba1\\\\u70b9\\\\u5f00\\\\uff0c\\\\u4e0d\\\\u597d\\\\u770b\\\\u7b97\\\\u6211\\\\u8f93\\\\uff01\", \"share_url\": \"https://www.amemv.com/share/video/6664918303322017027\", \"share_desc\": \"\\\\u6709\\\\u90a3\\\\u4e48\\\\u4e00\\\\u4e9b\\\\u4eba\\\\uff0c\\\\u76f8\\\\u9047\\\\u4e0d\\\\u5982\\\\u4e0d\\\\u9047\\\\u3002\\\\u82e5\\\\u53ea\\\\u662f\\\\u8fc7\\\\u5ba2\\\\uff0c\\\\u6211\\\\u5b81\\\\u53ef\\\\u6211\\\\u4eec\\\\u672a\\\\u66fe\\\\u76f8\\\\u8bc6\\\\u3002#\\\\u97f3\\\\u4e50 .#\\\\u8fc7\\\\u5ba2#\\\\u6b4c\\\\u66f2\"}, \"share_url\": \"\", \"aweme_type\": 0, \"video\": {\"play_addr\": {\"url_list\": [\"https://aweme.snssdk.com/aweme/v1/playwm/?video_id=v0200f910000bhvp7snm1hf5217dvofg&line=0\", \"https://aweme.snssdk.com/aweme/v1/playwm/?video_id=v0200f910000bhvp7snm1hf5217dvofg&line=1\"], \"uri\": \"v0200f910000bhvp7snm1hf5217dvofg\"}, \"height\": 1280, \"cover\": {\"url_list\": [\"https://p3.pstatp.com/large/1be670002707e3eb9b9a0.jpg\", \"https://pb9.pstatp.com/large/1be670002707e3eb9b9a0.jpg\", \"https://pb3.pstatp.com/large/1be670002707e3eb9b9a0.jpg\"], \"uri\": \"large/1be670002707e3eb9b9a0\"}, \"dynamic_cover\": {\"url_list\": [\"http://p3.pstatp.com/obj/1be3b000265607b1413a4\", \"http://pb9.pstatp.com/obj/1be3b000265607b1413a4\", \"http://pb3.pstatp.com/obj/1be3b000265607b1413a4\"], \"uri\": \"1be3b000265607b1413a4\"}, \"width\": 720}, \"media_type\": 4, \"aweme_id\": \"6664918303322017027\"}, {\"text_extra\": [{\"start\": 42, \"end\": 45, \"hashtag_name\": \"\\\\u97f3\\\\u4e50\", \"type\": 1}], \"statistics\": {\"forward_count\": 0, \"digg_count\": \"9.3w\", \"aweme_id\": \"6664841810755538180\"}, \"music\": {}, \"author\": {}, \"cha_list\": {}, \"share_info\": {\"share_weibo_desc\": \"#\\\\u5728\\\\u6296\\\\u97f3\\\\uff0c\\\\u8bb0\\\\u5f55\\\\u7f8e\\\\u597d\\\\u751f\\\\u6d3b# @\\\\u6296\\\\u97f3\\\\u73a9\\\\u5bb6 \\\\u53d1\\\\u4e86\\\\u4e00\\\\u4e2a\\\\u6296\\\\u97f3\\\\u77ed\\\\u89c6\\\\u9891\\\\uff0c\\\\u4f60\\\\u5c3d\\\\u7ba1\\\\u70b9\\\\u5f00\\\\uff0c\\\\u4e0d\\\\u597d\\\\u770b\\\\u7b97\\\\u6211\\\\u8f93\\\\uff01\\\\u6233\\\\u8fd9\\\\u91cc>>\", \"share_title\": \"@\\\\u6296\\\\u97f3\\\\u73a9\\\\u5bb6\\\\u53d1\\\\u4e86\\\\u4e00\\\\u4e2a\\\\u6296\\\\u97f3\\\\u77ed\\\\u89c6\\\\u9891\\\\uff0c\\\\u4f60\\\\u5c3d\\\\u7ba1\\\\u70b9\\\\u5f00\\\\uff0c\\\\u4e0d\\\\u597d\\\\u770b\\\\u7b97\\\\u6211\\\\u8f93\\\\uff01\", \"share_url\": \"https://www.amemv.com/share/video/6664841810755538180\", \"share_desc\": \"\\\\u201c\\\\u5f80\\\\u540e\\\\u4f59\\\\u751f\\\\uff0c\\\\u613f\\\\u6211\\\\u65e0\\\\u575a\\\\u4e0d\\\\u6467\\\\uff0c\\\\u613f\\\\u6211\\\\u767e\\\\u6bd2\\\\u4e0d\\\\u4fb5\\\\uff0c\\\\u613f\\\\u6211\\\\u5200\\\\u67aa\\\\u4e0d\\\\u5165\\\\uff0c\\\\u613f\\\\u6211\\\\u72fc\\\\u5fc3\\\\u72d7\\\\u80ba\\\\uff0c\\\\u613f\\\\u6211\\\\u900d\\\\u9065\\\\u5feb\\\\u6d3b\\\\u3002\\\\u201d#\\\\u97f3\\\\u4e50\"}, \"share_url\": \"\", \"aweme_type\": 0, \"video\": {\"play_addr\": {\"url_list\": [\"https://aweme.snssdk.com/aweme/v1/playwm/?video_id=v0200fe50000bhvi5a58n75pcgp5irjg&line=0\", \"https://aweme.snssdk.com/aweme/v1/playwm/?video_id=v0200fe50000bhvi5a58n75pcgp5irjg&line=1\"], \"uri\": \"v0200fe50000bhvi5a58n75pcgp5irjg\"}, \"height\": 1280, \"cover\": {\"url_list\": [\"https://p3.pstatp.com/large/1be300001125bda35eed6.jpg\", \"https://pb9.pstatp.com/large/1be300001125bda35eed6.jpg\", \"https://pb3.pstatp.com/large/1be300001125bda35eed6.jpg\"], \"uri\": \"large/1be300001125bda35eed6\"}, \"dynamic_cover\": {\"url_list\": [\"http://p1.pstatp.com/obj/1bcfb0008e9b9bc72078e\", \"http://pb3.pstatp.com/obj/1bcfb0008e9b9bc72078e\", \"http://pb3.pstatp.com/obj/1bcfb0008e9b9bc72078e\"], \"uri\": \"1bcfb0008e9b9bc72078e\"}, \"width\": 720}, \"media_type\": 4, \"aweme_id\": \"6664841810755538180\"}, {\"text_extra\": [{\"start\": 16, \"end\": 19, \"hashtag_name\": \"\\\\u97f3\\\\u4e50\", \"type\": 1}], \"statistics\": {\"forward_count\": 0, \"digg_count\": \"1.2w\", \"aweme_id\": \"6664829909300432139\"}, \"music\": {}, \"author\": {}, \"cha_list\": {}, \"share_info\": {\"share_weibo_desc\": \"#\\\\u5728\\\\u6296\\\\u97f3\\\\uff0c\\\\u8bb0\\\\u5f55\\\\u7f8e\\\\u597d\\\\u751f\\\\u6d3b# @\\\\u6296\\\\u97f3\\\\u73a9\\\\u5bb6 \\\\u53d1\\\\u4e86\\\\u4e00\\\\u4e2a\\\\u6296\\\\u97f3\\\\u77ed\\\\u89c6\\\\u9891\\\\uff0c\\\\u4f60\\\\u5c3d\\\\u7ba1\\\\u70b9\\\\u5f00\\\\uff0c\\\\u4e0d\\\\u597d\\\\u770b\\\\u7b97\\\\u6211\\\\u8f93\\\\uff01\\\\u6233\\\\u8fd9\\\\u91cc>>\", \"share_title\": \"@\\\\u6296\\\\u97f3\\\\u73a9\\\\u5bb6\\\\u53d1\\\\u4e86\\\\u4e00\\\\u4e2a\\\\u6296\\\\u97f3\\\\u77ed\\\\u89c6\\\\u9891\\\\uff0c\\\\u4f60\\\\u5c3d\\\\u7ba1\\\\u70b9\\\\u5f00\\\\uff0c\\\\u4e0d\\\\u597d\\\\u770b\\\\u7b97\\\\u6211\\\\u8f93\\\\uff01\", \"share_url\": \"https://www.amemv.com/share/video/6664829909300432139\", \"share_desc\": \"\\\\u522b\\\\u592a\\\\u5f53\\\\u771f\\\\uff0c\\\\u66a7\\\\u6627\\\\u662f\\\\u611f\\\\u6027\\\\u7559\\\\u7684\\\\u540e\\\\u9057\\\\u75c7\\\\u3002#\\\\u97f3\\\\u4e50\"}, \"share_url\": \"\", \"aweme_type\": 0, \"video\": {\"play_addr\": {\"url_list\": [\"https://aweme.snssdk.com/aweme/v1/playwm/?video_id=v0300f9b0000bhv6p1ue89p2lp10vr4g&line=0\", \"https://aweme.snssdk.com/aweme/v1/playwm/?video_id=v0300f9b0000bhv6p1ue89p2lp10vr4g&line=1\"], \"uri\": \"v0300f9b0000bhv6p1ue89p2lp10vr4g\"}, \"height\": 1280, \"cover\": {\"url_list\": [\"https://p3.pstatp.com/large/1bde100039c84368578cb.jpg\", \"https://pb9.pstatp.com/large/1bde100039c84368578cb.jpg\", \"https://pb3.pstatp.com/large/1bde100039c84368578cb.jpg\"], \"uri\": \"large/1bde100039c84368578cb\"}, \"dynamic_cover\": {\"url_list\": [\"http://p1.pstatp.com/obj/1bb5d000a64c92b597805\", \"http://pb3.pstatp.com/obj/1bb5d000a64c92b597805\", \"http://pb3.pstatp.com/obj/1bb5d000a64c92b597805\"], \"uri\": \"1bb5d000a64c92b597805\"}, \"width\": 720}, \"media_type\": 4, \"aweme_id\": \"6664829909300432139\"}, {\"text_extra\": [{\"start\": 49, \"end\": 52, \"hashtag_name\": \"\\\\u97f3\\\\u4e50\", \"type\": 1}], \"statistics\": {\"forward_count\": 0, \"digg_count\": \"2.7w\", \"aweme_id\": \"6664825501275802883\"}, \"music\": {}, \"author\": {}, \"cha_list\": {}, \"share_info\": {\"share_weibo_desc\": \"#\\\\u5728\\\\u6296\\\\u97f3\\\\uff0c\\\\u8bb0\\\\u5f55\\\\u7f8e\\\\u597d\\\\u751f\\\\u6d3b# @\\\\u6296\\\\u97f3\\\\u73a9\\\\u5bb6 \\\\u53d1\\\\u4e86\\\\u4e00\\\\u4e2a\\\\u6296\\\\u97f3\\\\u77ed\\\\u89c6\\\\u9891\\\\uff0c\\\\u4f60\\\\u5c3d\\\\u7ba1\\\\u70b9\\\\u5f00\\\\uff0c\\\\u4e0d\\\\u597d\\\\u770b\\\\u7b97\\\\u6211\\\\u8f93\\\\uff01\\\\u6233\\\\u8fd9\\\\u91cc>>\", \"share_title\": \"@\\\\u6296\\\\u97f3\\\\u73a9\\\\u5bb6\\\\u53d1\\\\u4e86\\\\u4e00\\\\u4e2a\\\\u6296\\\\u97f3\\\\u77ed\\\\u89c6\\\\u9891\\\\uff0c\\\\u4f60\\\\u5c3d\\\\u7ba1\\\\u70b9\\\\u5f00\\\\uff0c\\\\u4e0d\\\\u597d\\\\u770b\\\\u7b97\\\\u6211\\\\u8f93\\\\uff01\", \"share_url\": \"https://www.amemv.com/share/video/6664825501275802883\", \"share_desc\": \"\\\\u8fd9\\\\u662f\\\\u4e00\\\\u6761\\\\u6709\\\\u5e74\\\\u4ee3\\\\u7684\\\\u89c6\\\\u9891\\\\uff0c00\\\\u540e\\\\u53ef\\\\u4ee5\\\\u8df3\\\\u8fc7\\\\ud83e\\\\udd23\\\\u90a3\\\\u65f6\\\\u5019\\\\u5927\\\\u5bb6\\\\u90fd\\\\u662f\\\\u62ff\\\\u4e2a\\\\u672c\\\\u5b50\\\\u6284\\\\u6b4c\\\\u8bcd\\\\uff0c\\\\u5bf9\\\\u7740\\\\u672c\\\\u5b50K\\\\u6b4c\\\\u3002\\\\u4f60\\\\u4eec\\\\u8fd8\\\\u8bb0\\\\u5f97\\\\u5417\\\\uff1f#\\\\u97f3\\\\u4e50\"}, \"share_url\": \"\", \"aweme_type\": 0, \"video\": {\"play_addr\": {\"url_list\": [\"https://aweme.snssdk.com/aweme/v1/playwm/?video_id=v0300f720000bhv4sq5ehji788s4jst0&line=0\", \"https://aweme.snssdk.com/aweme/v1/playwm/?video_id=v0300f720000bhv4sq5ehji788s4jst0&line=1\"], \"uri\": \"v0300f720000bhv4sq5ehji788s4jst0\"}, \"height\": 1280, \"cover\": {\"url_list\": [\"https://p1.pstatp.com/large/1bd050002e96ed6e12f61.jpg\", \"https://pb3.pstatp.com/large/1bd050002e96ed6e12f61.jpg\", \"https://pb3.pstatp.com/large/1bd050002e96ed6e12f61.jpg\"], \"uri\": \"large/1bd050002e96ed6e12f61\"}, \"dynamic_cover\": {\"url_list\": [\"http://p3.pstatp.com/obj/1b9dd000a218f36cfffc5\", \"http://pb9.pstatp.com/obj/1b9dd000a218f36cfffc5\", \"http://pb3.pstatp.com/obj/1b9dd000a218f36cfffc5\"], \"uri\": \"1b9dd000a218f36cfffc5\"}, \"width\": 720}, \"media_type\": 4, \"aweme_id\": \"6664825501275802883\"}, {\"text_extra\": [{\"start\": 44, \"user_id\": \"6796248446\", \"end\": 50, \"type\": 0}, {\"start\": 29, \"end\": 32, \"hashtag_name\": \"\\\\u97f3\\\\u4e50\", \"type\": 1}, {\"start\": 33, \"end\": 42, \"hashtag_name\": \"\\\\u4f60\\\\u7684\\\\u594b\\\\u6597\\\\u7ec8\\\\u5c06\\\\u4f1f\\\\u5927\", \"type\": 1}], \"statistics\": {\"forward_count\": 0, \"digg_count\": \"1.5w\", \"aweme_id\": \"6664141060794535175\"}, \"music\": {}, \"author\": {}, \"cha_list\": {}, \"share_info\": {\"share_weibo_desc\": \"#\\\\u5728\\\\u6296\\\\u97f3\\\\uff0c\\\\u8bb0\\\\u5f55\\\\u7f8e\\\\u597d\\\\u751f\\\\u6d3b# @\\\\u6296\\\\u97f3\\\\u73a9\\\\u5bb6 \\\\u53d1\\\\u4e86\\\\u4e00\\\\u4e2a\\\\u6296\\\\u97f3\\\\u77ed\\\\u89c6\\\\u9891\\\\uff0c\\\\u4f60\\\\u5c3d\\\\u7ba1\\\\u70b9\\\\u5f00\\\\uff0c\\\\u4e0d\\\\u597d\\\\u770b\\\\u7b97\\\\u6211\\\\u8f93\\\\uff01\\\\u6233\\\\u8fd9\\\\u91cc>>\", \"share_title\": \"@\\\\u6296\\\\u97f3\\\\u73a9\\\\u5bb6\\\\u53d1\\\\u4e86\\\\u4e00\\\\u4e2a\\\\u6296\\\\u97f3\\\\u77ed\\\\u89c6\\\\u9891\\\\uff0c\\\\u4f60\\\\u5c3d\\\\u7ba1\\\\u70b9\\\\u5f00\\\\uff0c\\\\u4e0d\\\\u597d\\\\u770b\\\\u7b97\\\\u6211\\\\u8f93\\\\uff01\", \"share_url\": \"https://www.amemv.com/share/video/6664141060794535175\", \"share_desc\": \"\\\\u5fc3\\\\u82e5\\\\u88ab\\\\u56f0\\\\uff0c\\\\u5929\\\\u4e0b\\\\u5904\\\\u5904\\\\u662f\\\\u7262\\\\u7b3c\\\\uff1b\\\\u5fc3\\\\u4e4b\\\\u6240\\\\u5b89\\\\uff0c\\\\u77ee\\\\u74e6\\\\u6597\\\\u5ba4\\\\u4e5f\\\\u662f\\\\u4eba\\\\u95f4\\\\u5929\\\\u5802\\\\u3002#\\\\u97f3\\\\u4e50 #\\\\u4f60\\\\u7684\\\\u594b\\\\u6597\\\\u7ec8\\\\u5c06\\\\u4f1f\\\\u5927 .@\\\\u6296\\\\u97f3\\\\u5c0f\\\\u52a9\\\\u624b\"}, \"share_url\": \"\", \"aweme_type\": 0, \"video\": {\"play_addr\": {\"url_list\": [\"https://aweme.snssdk.com/aweme/v1/playwm/?video_id=v0300f210000bhufotjipkv28ipp62jg&line=0\", \"https://aweme.snssdk.com/aweme/v1/playwm/?video_id=v0300f210000bhufotjipkv28ipp62jg&line=1\"], \"uri\": \"v0300f210000bhufotjipkv28ipp62jg\"}, \"height\": 1280, \"cover\": {\"url_list\": [\"https://p1.pstatp.com/large/1bcb80003346c1838bd6b.jpg\", \"https://pb3.pstatp.com/large/1bcb80003346c1838bd6b.jpg\", \"https://pb3.pstatp.com/large/1bcb80003346c1838bd6b.jpg\"], \"uri\": \"large/1bcb80003346c1838bd6b\"}, \"dynamic_cover\": {\"url_list\": [\"http://p3.pstatp.com/obj/1bce300006bc30ed84b50\", \"http://pb9.pstatp.com/obj/1bce300006bc30ed84b50\", \"http://pb3.pstatp.com/obj/1bce300006bc30ed84b50\"], \"uri\": \"1bce300006bc30ed84b50\"}, \"width\": 720}, \"media_type\": 4, \"aweme_id\": \"6664141060794535175\"}, {\"text_extra\": [{\"start\": 19, \"end\": 22, \"hashtag_name\": \"\\\\u97f3\\\\u4e50\", \"type\": 1}, {\"start\": 23, \"end\": 26, \"hashtag_name\": \"\\\\u56de\\\\u5fc6\", \"type\": 1}, {\"start\": 27, \"end\": 32, \"hashtag_name\": \"\\\\u5f00\\\\u5b66\\\\u6765\\\\u7535\", \"type\": 1}], \"statistics\": {\"forward_count\": 0, \"digg_count\": 9532, \"aweme_id\": \"6663683596248861956\"}, \"music\": {}, \"author\": {}, \"cha_list\": {}, \"share_info\": {\"share_weibo_desc\": \"#\\\\u5728\\\\u6296\\\\u97f3\\\\uff0c\\\\u8bb0\\\\u5f55\\\\u7f8e\\\\u597d\\\\u751f\\\\u6d3b# @\\\\u6296\\\\u97f3\\\\u73a9\\\\u5bb6 \\\\u53d1\\\\u4e86\\\\u4e00\\\\u4e2a\\\\u6296\\\\u97f3\\\\u77ed\\\\u89c6\\\\u9891\\\\uff0c\\\\u4f60\\\\u5c3d\\\\u7ba1\\\\u70b9\\\\u5f00\\\\uff0c\\\\u4e0d\\\\u597d\\\\u770b\\\\u7b97\\\\u6211\\\\u8f93\\\\uff01\\\\u6233\\\\u8fd9\\\\u91cc>>\", \"share_title\": \"@\\\\u6296\\\\u97f3\\\\u73a9\\\\u5bb6\\\\u53d1\\\\u4e86\\\\u4e00\\\\u4e2a\\\\u6296\\\\u97f3\\\\u77ed\\\\u89c6\\\\u9891\\\\uff0c\\\\u4f60\\\\u5c3d\\\\u7ba1\\\\u70b9\\\\u5f00\\\\uff0c\\\\u4e0d\\\\u597d\\\\u770b\\\\u7b97\\\\u6211\\\\u8f93\\\\uff01\", \"share_url\": \"https://www.amemv.com/share/video/6663683596248861956\", \"share_desc\": \"\\\\u90a3\\\\u4e9b\\\\u5e74\\\\uff0c\\\\u6ee1\\\\u5927\\\\u8857\\\\u90fd\\\\u5728\\\\u653e\\\\u7684\\\\u6b4c\\\\uff0c\\\\u4f60\\\\u8fd8\\\\u8bb0\\\\u5f97\\\\u5417\\\\uff1f#\\\\u97f3\\\\u4e50 #\\\\u56de\\\\u5fc6 #\\\\u5f00\\\\u5b66\\\\u6765\\\\u7535\"}, \"share_url\": \"\", \"aweme_type\": 0, \"video\": {\"play_addr\": {\"url_list\": [\"https://aweme.snssdk.com/aweme/v1/playwm/?video_id=v0200f810000bhtkto0nrm1vktlc8khg&line=0\", \"https://aweme.snssdk.com/aweme/v1/playwm/?video_id=v0200f810000bhtkto0nrm1vktlc8khg&line=1\"], \"uri\": \"v0200f810000bhtkto0nrm1vktlc8khg\"}, \"height\": 1280, \"cover\": {\"url_list\": [\"https://p1.pstatp.com/large/1bb8d0000792098c1ce63.jpg\", \"https://pb3.pstatp.com/large/1bb8d0000792098c1ce63.jpg\", \"https://pb3.pstatp.com/large/1bb8d0000792098c1ce63.jpg\"], \"uri\": \"large/1bb8d0000792098c1ce63\"}, \"dynamic_cover\": {\"url_list\": [\"http://p9.pstatp.com/obj/1b6db00070f1eb7c72cf7\", \"http://pb1.pstatp.com/obj/1b6db00070f1eb7c72cf7\", \"http://pb3.pstatp.com/obj/1b6db00070f1eb7c72cf7\"], \"uri\": \"1b6db00070f1eb7c72cf7\"}, \"width\": 720}, \"media_type\": 4, \"aweme_id\": \"6663683596248861956\"}, {\"text_extra\": [{\"start\": 33, \"end\": 36, \"hashtag_name\": \"\\\\u97f3\\\\u4e50\", \"type\": 1}, {\"start\": 37, \"end\": 40, \"hashtag_name\": \"\\\\u56de\\\\u5fc6\", \"type\": 1}, {\"start\": 41, \"end\": 46, \"hashtag_name\": \"\\\\u5f00\\\\u5b66\\\\u6765\\\\u7535\", \"type\": 1}], \"statistics\": {\"forward_count\": 0, \"digg_count\": \"1.6w\", \"aweme_id\": \"6663419746098138376\"}, \"music\": {}, \"author\": {}, \"cha_list\": {}, \"share_info\": {\"share_weibo_desc\": \"#\\\\u5728\\\\u6296\\\\u97f3\\\\uff0c\\\\u8bb0\\\\u5f55\\\\u7f8e\\\\u597d\\\\u751f\\\\u6d3b# @\\\\u6296\\\\u97f3\\\\u73a9\\\\u5bb6 \\\\u53d1\\\\u4e86\\\\u4e00\\\\u4e2a\\\\u6296\\\\u97f3\\\\u77ed\\\\u89c6\\\\u9891\\\\uff0c\\\\u4f60\\\\u5c3d\\\\u7ba1\\\\u70b9\\\\u5f00\\\\uff0c\\\\u4e0d\\\\u597d\\\\u770b\\\\u7b97\\\\u6211\\\\u8f93\\\\uff01\\\\u6233\\\\u8fd9\\\\u91cc>>\", \"share_title\": \"@\\\\u6296\\\\u97f3\\\\u73a9\\\\u5bb6\\\\u53d1\\\\u4e86\\\\u4e00\\\\u4e2a\\\\u6296\\\\u97f3\\\\u77ed\\\\u89c6\\\\u9891\\\\uff0c\\\\u4f60\\\\u5c3d\\\\u7ba1\\\\u70b9\\\\u5f00\\\\uff0c\\\\u4e0d\\\\u597d\\\\u770b\\\\u7b97\\\\u6211\\\\u8f93\\\\uff01\", \"share_url\": \"https://www.amemv.com/share/video/6663419746098138376\", \"share_desc\": \"\\\\u8bb8\\\\u591a\\\\u65f6\\\\u5019\\\\uff0c\\\\u8ba9\\\\u6211\\\\u4eec\\\\u653e\\\\u4e0d\\\\u4e0b\\\\u7684\\\\uff0c\\\\u5176\\\\u5b9e\\\\u5e76\\\\u4e0d\\\\u662f\\\\u5bf9\\\\u65b9\\\\uff0c\\\\u800c\\\\u662f\\\\u90a3\\\\u4e9b\\\\u901d\\\\u53bb\\\\u7684\\\\u5171\\\\u540c\\\\u56de\\\\u5fc6\\\\u3002#\\\\u97f3\\\\u4e50 #\\\\u56de\\\\u5fc6 #\\\\u5f00\\\\u5b66\\\\u6765\\\\u7535\"}, \"share_url\": \"\", \"aweme_type\": 0, \"video\": {\"play_addr\": {\"url_list\": [\"https://aweme.snssdk.com/aweme/v1/playwm/?video_id=v0300f210000bht67hub5h2t7ajhqts0&line=0\", \"https://aweme.snssdk.com/aweme/v1/playwm/?video_id=v0300f210000bht67hub5h2t7ajhqts0&line=1\"], \"uri\": \"v0300f210000bht67hub5h2t7ajhqts0\"}, \"height\": 1280, \"cover\": {\"url_list\": [\"https://p1.pstatp.com/large/1ba40000184c4083c7fc6.jpg\", \"https://pb3.pstatp.com/large/1ba40000184c4083c7fc6.jpg\", \"https://pb3.pstatp.com/large/1ba40000184c4083c7fc6.jpg\"], \"uri\": \"large/1ba40000184c4083c7fc6\"}, \"dynamic_cover\": {\"url_list\": [\"http://p3.pstatp.com/obj/1b8a9000a1b7fde59755c\", \"http://pb9.pstatp.com/obj/1b8a9000a1b7fde59755c\", \"http://pb3.pstatp.com/obj/1b8a9000a1b7fde59755c\"], \"uri\": \"1b8a9000a1b7fde59755c\"}, \"width\": 720}, \"media_type\": 4, \"aweme_id\": \"6663419746098138376\"}, {\"text_extra\": [{\"start\": 23, \"end\": 32, \"hashtag_name\": \"\\\\u5c0f\\\\u5973\\\\u82b1\\\\u4e0d\\\\u5f03\\\\u4e1c\\\\u65b9\\\\u70bb\", \"type\": 1}], \"statistics\": {\"forward_count\": 0, \"digg_count\": \"10.1w\", \"aweme_id\": \"6662958019925609732\"}, \"music\": {}, \"author\": {}, \"cha_list\": {}, \"share_info\": {\"share_weibo_desc\": \"#\\\\u5728\\\\u6296\\\\u97f3\\\\uff0c\\\\u8bb0\\\\u5f55\\\\u7f8e\\\\u597d\\\\u751f\\\\u6d3b# @\\\\u6296\\\\u97f3\\\\u73a9\\\\u5bb6 \\\\u53d1\\\\u4e86\\\\u4e00\\\\u4e2a\\\\u6296\\\\u97f3\\\\u77ed\\\\u89c6\\\\u9891\\\\uff0c\\\\u4f60\\\\u5c3d\\\\u7ba1\\\\u70b9\\\\u5f00\\\\uff0c\\\\u4e0d\\\\u597d\\\\u770b\\\\u7b97\\\\u6211\\\\u8f93\\\\uff01\\\\u6233\\\\u8fd9\\\\u91cc>>\", \"share_title\": \"@\\\\u6296\\\\u97f3\\\\u73a9\\\\u5bb6\\\\u53d1\\\\u4e86\\\\u4e00\\\\u4e2a\\\\u6296\\\\u97f3\\\\u77ed\\\\u89c6\\\\u9891\\\\uff0c\\\\u4f60\\\\u5c3d\\\\u7ba1\\\\u70b9\\\\u5f00\\\\uff0c\\\\u4e0d\\\\u597d\\\\u770b\\\\u7b97\\\\u6211\\\\u8f93\\\\uff01\", \"share_url\": \"https://www.amemv.com/share/video/6662958019925609732\", \"share_desc\": \"\\\\u95ee\\\\u9752\\\\u5929\\\\u4eba\\\\u751f\\\\u6709\\\\u51e0\\\\u4f55\\\\uff0c\\\\u4e0b\\\\u8f88\\\\u5b50\\\\uff0c\\\\u8ba9\\\\u6211\\\\u5148\\\\u9047\\\\u89c1\\\\u4f60\\\\uff0c\\\\u597d\\\\u5417\\\\uff1f#\\\\u5c0f\\\\u5973\\\\u82b1\\\\u4e0d\\\\u5f03\\\\u4e1c\\\\u65b9\\\\u70bb\"}, \"share_url\": \"\", \"aweme_type\": 0, \"video\": {\"play_addr\": {\"url_list\": [\"https://aweme.snssdk.com/aweme/v1/playwm/?video_id=v0300fef0000bhrqkm4qg2lc15jjviag&line=0\", \"https://aweme.snssdk.com/aweme/v1/playwm/?video_id=v0300fef0000bhrqkm4qg2lc15jjviag&line=1\"], \"uri\": \"v0300fef0000bhrqkm4qg2lc15jjviag\"}, \"height\": 1280, \"cover\": {\"url_list\": [\"https://p3.pstatp.com/large/1b8d30004903a91d4d117.jpg\", \"https://pb9.pstatp.com/large/1b8d30004903a91d4d117.jpg\", \"https://pb3.pstatp.com/large/1b8d30004903a91d4d117.jpg\"], \"uri\": \"large/1b8d30004903a91d4d117\"}, \"dynamic_cover\": {\"url_list\": [\"http://p9.pstatp.com/obj/1b8ec00028c19c7bc6069\", \"http://pb1.pstatp.com/obj/1b8ec00028c19c7bc6069\", \"http://pb3.pstatp.com/obj/1b8ec00028c19c7bc6069\"], \"uri\": \"1b8ec00028c19c7bc6069\"}, \"width\": 720}, \"media_type\": 4, \"aweme_id\": \"6662958019925609732\"}, {\"text_extra\": [{\"start\": 28, \"user_id\": \"6796248446\", \"end\": 34, \"type\": 0}, {\"start\": 23, \"end\": 26, \"hashtag_name\": \"\\\\u97f3\\\\u4e50\", \"type\": 1}], \"statistics\": {\"forward_count\": 0, \"digg_count\": \"6.6w\", \"aweme_id\": \"6662620415065689356\"}, \"music\": {}, \"author\": {}, \"cha_list\": {}, \"share_info\": {\"share_weibo_desc\": \"#\\\\u5728\\\\u6296\\\\u97f3\\\\uff0c\\\\u8bb0\\\\u5f55\\\\u7f8e\\\\u597d\\\\u751f\\\\u6d3b# @\\\\u6296\\\\u97f3\\\\u73a9\\\\u5bb6 \\\\u53d1\\\\u4e86\\\\u4e00\\\\u4e2a\\\\u6296\\\\u97f3\\\\u77ed\\\\u89c6\\\\u9891\\\\uff0c\\\\u4f60\\\\u5c3d\\\\u7ba1\\\\u70b9\\\\u5f00\\\\uff0c\\\\u4e0d\\\\u597d\\\\u770b\\\\u7b97\\\\u6211\\\\u8f93\\\\uff01\\\\u6233\\\\u8fd9\\\\u91cc>>\", \"share_title\": \"@\\\\u6296\\\\u97f3\\\\u73a9\\\\u5bb6\\\\u53d1\\\\u4e86\\\\u4e00\\\\u4e2a\\\\u6296\\\\u97f3\\\\u77ed\\\\u89c6\\\\u9891\\\\uff0c\\\\u4f60\\\\u5c3d\\\\u7ba1\\\\u70b9\\\\u5f00\\\\uff0c\\\\u4e0d\\\\u597d\\\\u770b\\\\u7b97\\\\u6211\\\\u8f93\\\\uff01\", \"share_url\": \"https://www.amemv.com/share/video/6662620415065689356\", \"share_desc\": \"\\\\u4eba\\\\u6d77\\\\u832b\\\\u832b\\\\uff0c\\\\u503c\\\\u5f97\\\\u4f60\\\\u7231\\\\u7684\\\\uff0c\\\\u548c\\\\u7231\\\\u4f60\\\\u7684\\\\u4eba\\\\uff0c\\\\u7edd\\\\u4e0d\\\\u6b62\\\\u4e00\\\\u4e2a\\\\u3002#\\\\u97f3\\\\u4e50 .@\\\\u6296\\\\u97f3\\\\u5c0f\\\\u52a9\\\\u624b\"}, \"share_url\": \"\", \"aweme_type\": 0, \"video\": {\"play_addr\": {\"url_list\": [\"https://aweme.snssdk.com/aweme/v1/playwm/?video_id=v0300fef0000bhr6hrncf8jfqmg97530&line=0\", \"https://aweme.snssdk.com/aweme/v1/playwm/?video_id=v0300fef0000bhr6hrncf8jfqmg97530&line=1\"], \"uri\": \"v0300fef0000bhr6hrncf8jfqmg97530\"}, \"height\": 1280, \"cover\": {\"url_list\": [\"https://p1.pstatp.com/large/1b7c800020b0a8551ee71.jpg\", \"https://pb3.pstatp.com/large/1b7c800020b0a8551ee71.jpg\", \"https://pb3.pstatp.com/large/1b7c800020b0a8551ee71.jpg\"], \"uri\": \"large/1b7c800020b0a8551ee71\"}, \"dynamic_cover\": {\"url_list\": [\"http://p1.pstatp.com/obj/1b4010007dadda1e7d5e4\", \"http://pb3.pstatp.com/obj/1b4010007dadda1e7d5e4\", \"http://pb3.pstatp.com/obj/1b4010007dadda1e7d5e4\"], \"uri\": \"1b4010007dadda1e7d5e4\"}, \"width\": 720}, \"media_type\": 4, \"aweme_id\": \"6662620415065689356\"}, {\"text_extra\": [{\"start\": 19, \"user_id\": \"6796248446\", \"end\": 25, \"type\": 0}], \"statistics\": {\"forward_count\": 0, \"digg_count\": \"1.1w\", \"aweme_id\": \"6661944878127222027\"}, \"music\": {}, \"author\": {}, \"cha_list\": {}, \"share_info\": {\"share_weibo_desc\": \"#\\\\u5728\\\\u6296\\\\u97f3\\\\uff0c\\\\u8bb0\\\\u5f55\\\\u7f8e\\\\u597d\\\\u751f\\\\u6d3b# @\\\\u6296\\\\u97f3\\\\u73a9\\\\u5bb6 \\\\u53d1\\\\u4e86\\\\u4e00\\\\u4e2a\\\\u6296\\\\u97f3\\\\u77ed\\\\u89c6\\\\u9891\\\\uff0c\\\\u4f60\\\\u5c3d\\\\u7ba1\\\\u70b9\\\\u5f00\\\\uff0c\\\\u4e0d\\\\u597d\\\\u770b\\\\u7b97\\\\u6211\\\\u8f93\\\\uff01\\\\u6233\\\\u8fd9\\\\u91cc>>\", \"share_title\": \"@\\\\u6296\\\\u97f3\\\\u73a9\\\\u5bb6\\\\u53d1\\\\u4e86\\\\u4e00\\\\u4e2a\\\\u6296\\\\u97f3\\\\u77ed\\\\u89c6\\\\u9891\\\\uff0c\\\\u4f60\\\\u5c3d\\\\u7ba1\\\\u70b9\\\\u5f00\\\\uff0c\\\\u4e0d\\\\u597d\\\\u770b\\\\u7b97\\\\u6211\\\\u8f93\\\\uff01\", \"share_url\": \"https://www.amemv.com/share/video/6661944878127222027\", \"share_desc\": \"\\\\u542c\\\\u4e00\\\\u904d\\\\u5c31\\\\u4f1a\\\\u7231\\\\u4e0a\\\\u7684\\\\u7ca4\\\\u8bed\\\\u6b4c\\\\u66f2\\\\uff0c\\\\u4f60\\\\u4eec\\\\u559c\\\\u6b22\\\\u561b\\\\uff1f@\\\\u6296\\\\u97f3\\\\u5c0f\\\\u52a9\\\\u624b\"}, \"share_url\": \"\", \"aweme_type\": 0, \"video\": {\"play_addr\": {\"url_list\": [\"https://aweme.snssdk.com/aweme/v1/playwm/?video_id=v0300f250000bhqj84ue89pa6taksrdg&line=0\", \"https://aweme.snssdk.com/aweme/v1/playwm/?video_id=v0300f250000bhqj84ue89pa6taksrdg&line=1\"], \"uri\": \"v0300f250000bhqj84ue89pa6taksrdg\"}, \"height\": 1280, \"cover\": {\"url_list\": [\"https://p1.pstatp.com/large/1b6c70004e5f449102c7a.jpg\", \"https://pb3.pstatp.com/large/1b6c70004e5f449102c7a.jpg\", \"https://pb3.pstatp.com/large/1b6c70004e5f449102c7a.jpg\"], \"uri\": \"large/1b6c70004e5f449102c7a\"}, \"dynamic_cover\": {\"url_list\": [\"http://p1.pstatp.com/obj/1b3100004809e022636af\", \"http://pb3.pstatp.com/obj/1b3100004809e022636af\", \"http://pb3.pstatp.com/obj/1b3100004809e022636af\"], \"uri\": \"1b3100004809e022636af\"}, \"width\": 720}, \"media_type\": 4, \"aweme_id\": \"6661944878127222027\"}, {\"text_extra\": [{\"start\": 0, \"end\": 3, \"hashtag_name\": \"\\\\u5f20\\\\u6770\", \"type\": 1}, {\"start\": 17, \"end\": 20, \"hashtag_name\": \"\\\\u97f3\\\\u4e50\", \"type\": 1}], \"statistics\": {\"forward_count\": 0, \"digg_count\": \"1.2w\", \"aweme_id\": \"6660802454201961740\"}, \"music\": {}, \"author\": {}, \"cha_list\": {}, \"share_info\": {\"share_weibo_desc\": \"#\\\\u5728\\\\u6296\\\\u97f3\\\\uff0c\\\\u8bb0\\\\u5f55\\\\u7f8e\\\\u597d\\\\u751f\\\\u6d3b# @\\\\u6296\\\\u97f3\\\\u73a9\\\\u5bb6 \\\\u53d1\\\\u4e86\\\\u4e00\\\\u4e2a\\\\u6296\\\\u97f3\\\\u77ed\\\\u89c6\\\\u9891\\\\uff0c\\\\u4f60\\\\u5c3d\\\\u7ba1\\\\u70b9\\\\u5f00\\\\uff0c\\\\u4e0d\\\\u597d\\\\u770b\\\\u7b97\\\\u6211\\\\u8f93\\\\uff01\\\\u6233\\\\u8fd9\\\\u91cc>>\", \"share_title\": \"@\\\\u6296\\\\u97f3\\\\u73a9\\\\u5bb6\\\\u53d1\\\\u4e86\\\\u4e00\\\\u4e2a\\\\u6296\\\\u97f3\\\\u77ed\\\\u89c6\\\\u9891\\\\uff0c\\\\u4f60\\\\u5c3d\\\\u7ba1\\\\u70b9\\\\u5f00\\\\uff0c\\\\u4e0d\\\\u597d\\\\u770b\\\\u7b97\\\\u6211\\\\u8f93\\\\uff01\", \"share_url\": \"https://www.amemv.com/share/video/6660802454201961740\", \"share_desc\": \"#\\\\u5f20\\\\u6770 \\\\u7a7f\\\\u900f\\\\u5185\\\\u5fc3\\\\uff0c\\\\u76f4\\\\u51fb\\\\u7075\\\\u9b42\\\\u7684\\\\u58f0\\\\u97f3\\\\uff01#\\\\u97f3\\\\u4e50 #\"}, \"share_url\": \"\", \"aweme_type\": 0, \"video\": {\"play_addr\": {\"url_list\": [\"https://aweme.snssdk.com/aweme/v1/playwm/?video_id=v0300f250000bhohs34qg2lcsc3tu4t0&line=0\", \"https://aweme.snssdk.com/aweme/v1/playwm/?video_id=v0300f250000bhohs34qg2lcsc3tu4t0&line=1\"], \"uri\": \"v0300f250000bhohs34qg2lcsc3tu4t0\"}, \"height\": 1280, \"cover\": {\"url_list\": [\"https://p1.pstatp.com/large/1b1130001a3c7a8380768.jpg\", \"https://pb3.pstatp.com/large/1b1130001a3c7a8380768.jpg\", \"https://pb3.pstatp.com/large/1b1130001a3c7a8380768.jpg\"], \"uri\": \"large/1b1130001a3c7a8380768\"}, \"dynamic_cover\": {\"url_list\": [\"http://p1.pstatp.com/obj/1b14800027aa0851c7c70\", \"http://pb3.pstatp.com/obj/1b14800027aa0851c7c70\", \"http://pb3.pstatp.com/obj/1b14800027aa0851c7c70\"], \"uri\": \"1b14800027aa0851c7c70\"}, \"width\": 720}, \"media_type\": 4, \"aweme_id\": \"6660802454201961740\"}, {\"text_extra\": [{\"start\": 0, \"end\": 7, \"hashtag_name\": \"\\\\u9b54\\\\u9b3c\\\\u4e2d\\\\u7684\\\\u5929\\\\u4f7f\", \"type\": 1}], \"statistics\": {\"forward_count\": 0, \"digg_count\": 8172, \"aweme_id\": \"6659659096066706695\"}, \"music\": {}, \"author\": {}, \"cha_list\": {}, \"share_info\": {\"share_weibo_desc\": \"#\\\\u5728\\\\u6296\\\\u97f3\\\\uff0c\\\\u8bb0\\\\u5f55\\\\u7f8e\\\\u597d\\\\u751f\\\\u6d3b# @\\\\u6296\\\\u97f3\\\\u73a9\\\\u5bb6 \\\\u53d1\\\\u4e86\\\\u4e00\\\\u4e2a\\\\u6296\\\\u97f3\\\\u77ed\\\\u89c6\\\\u9891\\\\uff0c\\\\u4f60\\\\u5c3d\\\\u7ba1\\\\u70b9\\\\u5f00\\\\uff0c\\\\u4e0d\\\\u597d\\\\u770b\\\\u7b97\\\\u6211\\\\u8f93\\\\uff01\\\\u6233\\\\u8fd9\\\\u91cc>>\", \"share_title\": \"@\\\\u6296\\\\u97f3\\\\u73a9\\\\u5bb6\\\\u53d1\\\\u4e86\\\\u4e00\\\\u4e2a\\\\u6296\\\\u97f3\\\\u77ed\\\\u89c6\\\\u9891\\\\uff0c\\\\u4f60\\\\u5c3d\\\\u7ba1\\\\u70b9\\\\u5f00\\\\uff0c\\\\u4e0d\\\\u597d\\\\u770b\\\\u7b97\\\\u6211\\\\u8f93\\\\uff01\", \"share_url\": \"https://www.amemv.com/share/video/6659659096066706695\", \"share_desc\": \"#\\\\u9b54\\\\u9b3c\\\\u4e2d\\\\u7684\\\\u5929\\\\u4f7f \\\\u5c3d\\\\u7ba1\\\\u53eb\\\\u6211\\\\u75af\\\\u5b50\\\\uff0c\\\\u4e0d\\\\u51c6\\\\u53eb\\\\u6211\\\\u50bb\\\\u5b50\\\\uff01\\\\uff01\\\\uff01\"}, \"share_url\": \"\", \"aweme_type\": 0, \"video\": {\"play_addr\": {\"url_list\": [\"https://aweme.snssdk.com/aweme/v1/playwm/?video_id=v0200fdc0000bhmhlj4eae15mugaqt90&line=0\", \"https://aweme.snssdk.com/aweme/v1/playwm/?video_id=v0200fdc0000bhmhlj4eae15mugaqt90&line=1\"], \"uri\": \"v0200fdc0000bhmhlj4eae15mugaqt90\"}, \"height\": 1280, \"cover\": {\"url_list\": [\"https://p9.pstatp.com/large/1add20008a81647b2ddca.jpg\", \"https://pb1.pstatp.com/large/1add20008a81647b2ddca.jpg\", \"https://pb3.pstatp.com/large/1add20008a81647b2ddca.jpg\"], \"uri\": \"large/1add20008a81647b2ddca\"}, \"dynamic_cover\": {\"url_list\": [\"http://p1.pstatp.com/obj/1ae5700032ff781b0fb06\", \"http://pb3.pstatp.com/obj/1ae5700032ff781b0fb06\", \"http://pb3.pstatp.com/obj/1ae5700032ff781b0fb06\"], \"uri\": \"1ae5700032ff781b0fb06\"}, \"width\": 720}, \"media_type\": 4, \"aweme_id\": \"6659659096066706695\"}, {\"text_extra\": [], \"statistics\": {\"forward_count\": 0, \"digg_count\": \"4.6w\", \"aweme_id\": \"6658151714262191368\"}, \"music\": {}, \"author\": {}, \"cha_list\": {}, \"share_info\": {\"share_weibo_desc\": \"#\\\\u5728\\\\u6296\\\\u97f3\\\\uff0c\\\\u8bb0\\\\u5f55\\\\u7f8e\\\\u597d\\\\u751f\\\\u6d3b# @\\\\u6296\\\\u97f3\\\\u73a9\\\\u5bb6 \\\\u53d1\\\\u4e86\\\\u4e00\\\\u4e2a\\\\u6296\\\\u97f3\\\\u77ed\\\\u89c6\\\\u9891\\\\uff0c\\\\u4f60\\\\u5c3d\\\\u7ba1\\\\u70b9\\\\u5f00\\\\uff0c\\\\u4e0d\\\\u597d\\\\u770b\\\\u7b97\\\\u6211\\\\u8f93\\\\uff01\\\\u6233\\\\u8fd9\\\\u91cc>>\", \"share_title\": \"@\\\\u6296\\\\u97f3\\\\u73a9\\\\u5bb6\\\\u53d1\\\\u4e86\\\\u4e00\\\\u4e2a\\\\u6296\\\\u97f3\\\\u77ed\\\\u89c6\\\\u9891\\\\uff0c\\\\u4f60\\\\u5c3d\\\\u7ba1\\\\u70b9\\\\u5f00\\\\uff0c\\\\u4e0d\\\\u597d\\\\u770b\\\\u7b97\\\\u6211\\\\u8f93\\\\uff01\", \"share_url\": \"https://www.amemv.com/share/video/6658151714262191368\", \"share_desc\": \"\\\\u5f53\\\\u6211\\\\u4f18\\\\u79c0\\\\u5f97\\\\u8db3\\\\u591f\\\\u8ba9\\\\u4f60\\\\u4e0d\\\\u4f1a\\\\u79bb\\\\u6211\\\\u800c\\\\u53bb\\\\u65f6\\\\uff0c\\\\u6211\\\\u5df2\\\\u7ecf\\\\u4e0d\\\\u518d\\\\u975e\\\\u4f60\\\\u4e0d\\\\u53ef\\\\u4e86\\\\u3002\"}, \"share_url\": \"\", \"aweme_type\": 0, \"video\": {\"play_addr\": {\"url_list\": [\"https://aweme.snssdk.com/aweme/v1/playwm/?video_id=v0300fc50000bhkejfl4m4mrcmrcidbg&line=0\", \"https://aweme.snssdk.com/aweme/v1/playwm/?video_id=v0300fc50000bhkejfl4m4mrcmrcidbg&line=1\"], \"uri\": \"v0300fc50000bhkejfl4m4mrcmrcidbg\"}, \"height\": 1280, \"cover\": {\"url_list\": [\"https://p1.pstatp.com/large/1a8fc000cea0cfa3ad8f3.jpg\", \"https://pb3.pstatp.com/large/1a8fc000cea0cfa3ad8f3.jpg\", \"https://pb3.pstatp.com/large/1a8fc000cea0cfa3ad8f3.jpg\"], \"uri\": \"large/1a8fc000cea0cfa3ad8f3\"}, \"dynamic_cover\": {\"url_list\": [\"http://p1.pstatp.com/obj/1a99a000af51985ba67dc\", \"http://pb3.pstatp.com/obj/1a99a000af51985ba67dc\", \"http://pb3.pstatp.com/obj/1a99a000af51985ba67dc\"], \"uri\": \"1a99a000af51985ba67dc\"}, \"width\": 720}, \"media_type\": 4, \"aweme_id\": \"6658151714262191368\"}, {\"text_extra\": [{\"start\": 0, \"end\": 6, \"hashtag_name\": \"\\\\u6e05\\\\u660e\\\\u4e0a\\\\u6cb3\\\\u56fe\", \"type\": 1}, {\"start\": 18, \"end\": 22, \"hashtag_name\": \"\\\\u674e\\\\u7389\\\\u521a\", \"type\": 1}], \"statistics\": {\"forward_count\": 0, \"digg_count\": 9629, \"aweme_id\": \"6656032003433008398\"}, \"music\": {}, \"author\": {}, \"cha_list\": {}, \"share_info\": {\"share_weibo_desc\": \"#\\\\u5728\\\\u6296\\\\u97f3\\\\uff0c\\\\u8bb0\\\\u5f55\\\\u7f8e\\\\u597d\\\\u751f\\\\u6d3b# @\\\\u6296\\\\u97f3\\\\u73a9\\\\u5bb6 \\\\u53d1\\\\u4e86\\\\u4e00\\\\u4e2a\\\\u6296\\\\u97f3\\\\u77ed\\\\u89c6\\\\u9891\\\\uff0c\\\\u4f60\\\\u5c3d\\\\u7ba1\\\\u70b9\\\\u5f00\\\\uff0c\\\\u4e0d\\\\u597d\\\\u770b\\\\u7b97\\\\u6211\\\\u8f93\\\\uff01\\\\u6233\\\\u8fd9\\\\u91cc>>\", \"share_title\": \"@\\\\u6296\\\\u97f3\\\\u73a9\\\\u5bb6\\\\u53d1\\\\u4e86\\\\u4e00\\\\u4e2a\\\\u6296\\\\u97f3\\\\u77ed\\\\u89c6\\\\u9891\\\\uff0c\\\\u4f60\\\\u5c3d\\\\u7ba1\\\\u70b9\\\\u5f00\\\\uff0c\\\\u4e0d\\\\u597d\\\\u770b\\\\u7b97\\\\u6211\\\\u8f93\\\\uff01\", \"share_url\": \"https://www.amemv.com/share/video/6656032003433008398\", \"share_desc\": \"#\\\\u6e05\\\\u660e\\\\u4e0a\\\\u6cb3\\\\u56fe \\\\u6700\\\\u8fd1\\\\u88ab\\\\u8fd9\\\\u9996\\\\u6b4c\\\\u6d17\\\\u8111\\\\u4e86\\\\ud83d\\\\ude48#\\\\u674e\\\\u7389\\\\u521a @\\\\u6296\\\\u97f3\\\\u5c0f\\\\u52a9\\\\u624b\"}, \"share_url\": \"\", \"aweme_type\": 0, \"video\": {\"play_addr\": {\"url_list\": [\"https://aweme.snssdk.com/aweme/v1/playwm/?video_id=v0300fbd0000bhhnm93bdg8gdquhctbg&line=0\", \"https://aweme.snssdk.com/aweme/v1/playwm/?video_id=v0300fbd0000bhhnm93bdg8gdquhctbg&line=1\"], \"uri\": \"v0300fbd0000bhhnm93bdg8gdquhctbg\"}, \"height\": 1280, \"cover\": {\"url_list\": [\"https://p9.pstatp.com/large/1a1f9000e628f8d93c8c7.jpg\", \"https://pb1.pstatp.com/large/1a1f9000e628f8d93c8c7.jpg\", \"https://pb3.pstatp.com/large/1a1f9000e628f8d93c8c7.jpg\"], \"uri\": \"large/1a1f9000e628f8d93c8c7\"}, \"dynamic_cover\": {\"url_list\": [\"http://p3.pstatp.com/obj/1a2a3000b0114c607059f\", \"http://pb9.pstatp.com/obj/1a2a3000b0114c607059f\", \"http://pb3.pstatp.com/obj/1a2a3000b0114c607059f\"], \"uri\": \"1a2a3000b0114c607059f\"}, \"width\": 720}, \"media_type\": 4, \"aweme_id\": \"6656032003433008398\"}, {\"text_extra\": [{\"start\": 16, \"user_id\": \"6796248446\", \"end\": 22, \"type\": 0}, {\"start\": 23, \"end\": 26, \"hashtag_name\": \"\\\\u97f3\\\\u4e50\", \"type\": 1}], \"statistics\": {\"forward_count\": 0, \"digg_count\": 9788, \"aweme_id\": \"6654831641699142915\"}, \"music\": {}, \"author\": {}, \"cha_list\": {}, \"share_info\": {\"share_weibo_desc\": \"#\\\\u5728\\\\u6296\\\\u97f3\\\\uff0c\\\\u8bb0\\\\u5f55\\\\u7f8e\\\\u597d\\\\u751f\\\\u6d3b# @\\\\u6296\\\\u97f3\\\\u73a9\\\\u5bb6 \\\\u53d1\\\\u4e86\\\\u4e00\\\\u4e2a\\\\u6296\\\\u97f3\\\\u77ed\\\\u89c6\\\\u9891\\\\uff0c\\\\u4f60\\\\u5c3d\\\\u7ba1\\\\u70b9\\\\u5f00\\\\uff0c\\\\u4e0d\\\\u597d\\\\u770b\\\\u7b97\\\\u6211\\\\u8f93\\\\uff01\\\\u6233\\\\u8fd9\\\\u91cc>>\", \"share_title\": \"@\\\\u6296\\\\u97f3\\\\u73a9\\\\u5bb6\\\\u53d1\\\\u4e86\\\\u4e00\\\\u4e2a\\\\u6296\\\\u97f3\\\\u77ed\\\\u89c6\\\\u9891\\\\uff0c\\\\u4f60\\\\u5c3d\\\\u7ba1\\\\u70b9\\\\u5f00\\\\uff0c\\\\u4e0d\\\\u597d\\\\u770b\\\\u7b97\\\\u6211\\\\u8f93\\\\uff01\", \"share_url\": \"https://www.amemv.com/share/video/6654831641699142915\", \"share_desc\": \"\\\\u542c\\\\u61c2\\\\u7684\\\\u662f\\\\u6545\\\\u4e8b\\\\uff0c\\\\u542c\\\\u4e0d\\\\u61c2\\\\u7684\\\\u662f\\\\u5e78\\\\u8fd0\\\\uff01.@\\\\u6296\\\\u97f3\\\\u5c0f\\\\u52a9\\\\u624b #\\\\u97f3\\\\u4e50\"}, \"share_url\": \"\", \"aweme_type\": 0, \"video\": {\"play_addr\": {\"url_list\": [\"https://aweme.snssdk.com/aweme/v1/playwm/?video_id=v0300fbd0000bhfvsju0gektopti8qdg&line=0\", \"https://aweme.snssdk.com/aweme/v1/playwm/?video_id=v0300fbd0000bhfvsju0gektopti8qdg&line=1\"], \"uri\": \"v0300fbd0000bhfvsju0gektopti8qdg\"}, \"height\": 1280, \"cover\": {\"url_list\": [\"https://p1.pstatp.com/large/170000007d96fec7abbe5.jpg\", \"https://pb3.pstatp.com/large/170000007d96fec7abbe5.jpg\", \"https://pb3.pstatp.com/large/170000007d96fec7abbe5.jpg\"], \"uri\": \"large/170000007d96fec7abbe5\"}, \"dynamic_cover\": {\"url_list\": [\"http://p3.pstatp.com/obj/17132000c99456eef4564\", \"http://pb9.pstatp.com/obj/17132000c99456eef4564\", \"http://pb3.pstatp.com/obj/17132000c99456eef4564\"], \"uri\": \"17132000c99456eef4564\"}, \"width\": 720}, \"media_type\": 4, \"aweme_id\": \"6654831641699142915\"}], \"max_cursor\": 1549626013000}'"
      ]
     },
     "execution_count": 26,
     "metadata": {},
     "output_type": "execute_result"
    }
   ],
   "source": [
    "html"
   ]
  },
  {
   "cell_type": "markdown",
   "metadata": {},
   "source": [
    "# 将url相应得到的字符串转换为json"
   ]
  },
  {
   "cell_type": "code",
   "execution_count": 27,
   "metadata": {
    "collapsed": true
   },
   "outputs": [],
   "source": [
    "hjson = json.loads(html)"
   ]
  },
  {
   "cell_type": "code",
   "execution_count": 28,
   "metadata": {
    "collapsed": false
   },
   "outputs": [
    {
     "data": {
      "text/plain": [
       "{'aweme_list': [{'author': {},\n",
       "   'aweme_id': '6664936856876043524',\n",
       "   'aweme_type': 0,\n",
       "   'cha_list': {},\n",
       "   'media_type': 4,\n",
       "   'music': {},\n",
       "   'share_info': {'share_desc': '每次听这歌都忍不住的难过……你们可能都以为是情歌，知道真相后你们会点赞的！让它火起来吧！#音乐',\n",
       "    'share_title': '@抖音玩家发了一个抖音短视频，你尽管点开，不好看算我输！',\n",
       "    'share_url': 'https://www.amemv.com/share/video/6664936856876043524',\n",
       "    'share_weibo_desc': '#在抖音，记录美好生活# @抖音玩家 发了一个抖音短视频，你尽管点开，不好看算我输！戳这里>>'},\n",
       "   'share_url': '',\n",
       "   'statistics': {'aweme_id': '6664936856876043524',\n",
       "    'digg_count': '7.4w',\n",
       "    'forward_count': 0},\n",
       "   'text_extra': [{'end': 47, 'hashtag_name': '音乐', 'start': 44, 'type': 1}],\n",
       "   'video': {'cover': {'uri': 'large/1ba330002814e2f29aa14',\n",
       "     'url_list': ['https://p1.pstatp.com/large/1ba330002814e2f29aa14.jpg',\n",
       "      'https://pb3.pstatp.com/large/1ba330002814e2f29aa14.jpg',\n",
       "      'https://pb3.pstatp.com/large/1ba330002814e2f29aa14.jpg']},\n",
       "    'dynamic_cover': {'uri': '1bc490007bfadf389a381',\n",
       "     'url_list': ['http://p3.pstatp.com/obj/1bc490007bfadf389a381',\n",
       "      'http://pb9.pstatp.com/obj/1bc490007bfadf389a381',\n",
       "      'http://pb3.pstatp.com/obj/1bc490007bfadf389a381']},\n",
       "    'height': 1280,\n",
       "    'play_addr': {'uri': 'v0300f520000bhvt35d0157mr0fucq5g',\n",
       "     'url_list': ['https://aweme.snssdk.com/aweme/v1/playwm/?video_id=v0300f520000bhvt35d0157mr0fucq5g&line=0',\n",
       "      'https://aweme.snssdk.com/aweme/v1/playwm/?video_id=v0300f520000bhvt35d0157mr0fucq5g&line=1']},\n",
       "    'width': 720}},\n",
       "  {'author': {},\n",
       "   'aweme_id': '6664918303322017027',\n",
       "   'aweme_type': 0,\n",
       "   'cha_list': {},\n",
       "   'media_type': 4,\n",
       "   'music': {},\n",
       "   'share_info': {'share_desc': '有那么一些人，相遇不如不遇。若只是过客，我宁可我们未曾相识。#音乐 .#过客#歌曲',\n",
       "    'share_title': '@抖音玩家发了一个抖音短视频，你尽管点开，不好看算我输！',\n",
       "    'share_url': 'https://www.amemv.com/share/video/6664918303322017027',\n",
       "    'share_weibo_desc': '#在抖音，记录美好生活# @抖音玩家 发了一个抖音短视频，你尽管点开，不好看算我输！戳这里>>'},\n",
       "   'share_url': '',\n",
       "   'statistics': {'aweme_id': '6664918303322017027',\n",
       "    'digg_count': '2.4w',\n",
       "    'forward_count': 0},\n",
       "   'text_extra': [{'end': 33, 'hashtag_name': '音乐', 'start': 30, 'type': 1},\n",
       "    {'end': 38, 'hashtag_name': '过客', 'start': 35, 'type': 1},\n",
       "    {'end': 41, 'hashtag_name': '歌曲', 'start': 38, 'type': 1}],\n",
       "   'video': {'cover': {'uri': 'large/1be670002707e3eb9b9a0',\n",
       "     'url_list': ['https://p3.pstatp.com/large/1be670002707e3eb9b9a0.jpg',\n",
       "      'https://pb9.pstatp.com/large/1be670002707e3eb9b9a0.jpg',\n",
       "      'https://pb3.pstatp.com/large/1be670002707e3eb9b9a0.jpg']},\n",
       "    'dynamic_cover': {'uri': '1be3b000265607b1413a4',\n",
       "     'url_list': ['http://p3.pstatp.com/obj/1be3b000265607b1413a4',\n",
       "      'http://pb9.pstatp.com/obj/1be3b000265607b1413a4',\n",
       "      'http://pb3.pstatp.com/obj/1be3b000265607b1413a4']},\n",
       "    'height': 1280,\n",
       "    'play_addr': {'uri': 'v0200f910000bhvp7snm1hf5217dvofg',\n",
       "     'url_list': ['https://aweme.snssdk.com/aweme/v1/playwm/?video_id=v0200f910000bhvp7snm1hf5217dvofg&line=0',\n",
       "      'https://aweme.snssdk.com/aweme/v1/playwm/?video_id=v0200f910000bhvp7snm1hf5217dvofg&line=1']},\n",
       "    'width': 720}},\n",
       "  {'author': {},\n",
       "   'aweme_id': '6664841810755538180',\n",
       "   'aweme_type': 0,\n",
       "   'cha_list': {},\n",
       "   'media_type': 4,\n",
       "   'music': {},\n",
       "   'share_info': {'share_desc': '“往后余生，愿我无坚不摧，愿我百毒不侵，愿我刀枪不入，愿我狼心狗肺，愿我逍遥快活。”#音乐',\n",
       "    'share_title': '@抖音玩家发了一个抖音短视频，你尽管点开，不好看算我输！',\n",
       "    'share_url': 'https://www.amemv.com/share/video/6664841810755538180',\n",
       "    'share_weibo_desc': '#在抖音，记录美好生活# @抖音玩家 发了一个抖音短视频，你尽管点开，不好看算我输！戳这里>>'},\n",
       "   'share_url': '',\n",
       "   'statistics': {'aweme_id': '6664841810755538180',\n",
       "    'digg_count': '9.3w',\n",
       "    'forward_count': 0},\n",
       "   'text_extra': [{'end': 45, 'hashtag_name': '音乐', 'start': 42, 'type': 1}],\n",
       "   'video': {'cover': {'uri': 'large/1be300001125bda35eed6',\n",
       "     'url_list': ['https://p3.pstatp.com/large/1be300001125bda35eed6.jpg',\n",
       "      'https://pb9.pstatp.com/large/1be300001125bda35eed6.jpg',\n",
       "      'https://pb3.pstatp.com/large/1be300001125bda35eed6.jpg']},\n",
       "    'dynamic_cover': {'uri': '1bcfb0008e9b9bc72078e',\n",
       "     'url_list': ['http://p1.pstatp.com/obj/1bcfb0008e9b9bc72078e',\n",
       "      'http://pb3.pstatp.com/obj/1bcfb0008e9b9bc72078e',\n",
       "      'http://pb3.pstatp.com/obj/1bcfb0008e9b9bc72078e']},\n",
       "    'height': 1280,\n",
       "    'play_addr': {'uri': 'v0200fe50000bhvi5a58n75pcgp5irjg',\n",
       "     'url_list': ['https://aweme.snssdk.com/aweme/v1/playwm/?video_id=v0200fe50000bhvi5a58n75pcgp5irjg&line=0',\n",
       "      'https://aweme.snssdk.com/aweme/v1/playwm/?video_id=v0200fe50000bhvi5a58n75pcgp5irjg&line=1']},\n",
       "    'width': 720}},\n",
       "  {'author': {},\n",
       "   'aweme_id': '6664829909300432139',\n",
       "   'aweme_type': 0,\n",
       "   'cha_list': {},\n",
       "   'media_type': 4,\n",
       "   'music': {},\n",
       "   'share_info': {'share_desc': '别太当真，暧昧是感性留的后遗症。#音乐',\n",
       "    'share_title': '@抖音玩家发了一个抖音短视频，你尽管点开，不好看算我输！',\n",
       "    'share_url': 'https://www.amemv.com/share/video/6664829909300432139',\n",
       "    'share_weibo_desc': '#在抖音，记录美好生活# @抖音玩家 发了一个抖音短视频，你尽管点开，不好看算我输！戳这里>>'},\n",
       "   'share_url': '',\n",
       "   'statistics': {'aweme_id': '6664829909300432139',\n",
       "    'digg_count': '1.2w',\n",
       "    'forward_count': 0},\n",
       "   'text_extra': [{'end': 19, 'hashtag_name': '音乐', 'start': 16, 'type': 1}],\n",
       "   'video': {'cover': {'uri': 'large/1bde100039c84368578cb',\n",
       "     'url_list': ['https://p3.pstatp.com/large/1bde100039c84368578cb.jpg',\n",
       "      'https://pb9.pstatp.com/large/1bde100039c84368578cb.jpg',\n",
       "      'https://pb3.pstatp.com/large/1bde100039c84368578cb.jpg']},\n",
       "    'dynamic_cover': {'uri': '1bb5d000a64c92b597805',\n",
       "     'url_list': ['http://p1.pstatp.com/obj/1bb5d000a64c92b597805',\n",
       "      'http://pb3.pstatp.com/obj/1bb5d000a64c92b597805',\n",
       "      'http://pb3.pstatp.com/obj/1bb5d000a64c92b597805']},\n",
       "    'height': 1280,\n",
       "    'play_addr': {'uri': 'v0300f9b0000bhv6p1ue89p2lp10vr4g',\n",
       "     'url_list': ['https://aweme.snssdk.com/aweme/v1/playwm/?video_id=v0300f9b0000bhv6p1ue89p2lp10vr4g&line=0',\n",
       "      'https://aweme.snssdk.com/aweme/v1/playwm/?video_id=v0300f9b0000bhv6p1ue89p2lp10vr4g&line=1']},\n",
       "    'width': 720}},\n",
       "  {'author': {},\n",
       "   'aweme_id': '6664825501275802883',\n",
       "   'aweme_type': 0,\n",
       "   'cha_list': {},\n",
       "   'media_type': 4,\n",
       "   'music': {},\n",
       "   'share_info': {'share_desc': '这是一条有年代的视频，00后可以跳过\\U0001f923那时候大家都是拿个本子抄歌词，对着本子K歌。你们还记得吗？#音乐',\n",
       "    'share_title': '@抖音玩家发了一个抖音短视频，你尽管点开，不好看算我输！',\n",
       "    'share_url': 'https://www.amemv.com/share/video/6664825501275802883',\n",
       "    'share_weibo_desc': '#在抖音，记录美好生活# @抖音玩家 发了一个抖音短视频，你尽管点开，不好看算我输！戳这里>>'},\n",
       "   'share_url': '',\n",
       "   'statistics': {'aweme_id': '6664825501275802883',\n",
       "    'digg_count': '2.7w',\n",
       "    'forward_count': 0},\n",
       "   'text_extra': [{'end': 52, 'hashtag_name': '音乐', 'start': 49, 'type': 1}],\n",
       "   'video': {'cover': {'uri': 'large/1bd050002e96ed6e12f61',\n",
       "     'url_list': ['https://p1.pstatp.com/large/1bd050002e96ed6e12f61.jpg',\n",
       "      'https://pb3.pstatp.com/large/1bd050002e96ed6e12f61.jpg',\n",
       "      'https://pb3.pstatp.com/large/1bd050002e96ed6e12f61.jpg']},\n",
       "    'dynamic_cover': {'uri': '1b9dd000a218f36cfffc5',\n",
       "     'url_list': ['http://p3.pstatp.com/obj/1b9dd000a218f36cfffc5',\n",
       "      'http://pb9.pstatp.com/obj/1b9dd000a218f36cfffc5',\n",
       "      'http://pb3.pstatp.com/obj/1b9dd000a218f36cfffc5']},\n",
       "    'height': 1280,\n",
       "    'play_addr': {'uri': 'v0300f720000bhv4sq5ehji788s4jst0',\n",
       "     'url_list': ['https://aweme.snssdk.com/aweme/v1/playwm/?video_id=v0300f720000bhv4sq5ehji788s4jst0&line=0',\n",
       "      'https://aweme.snssdk.com/aweme/v1/playwm/?video_id=v0300f720000bhv4sq5ehji788s4jst0&line=1']},\n",
       "    'width': 720}},\n",
       "  {'author': {},\n",
       "   'aweme_id': '6664141060794535175',\n",
       "   'aweme_type': 0,\n",
       "   'cha_list': {},\n",
       "   'media_type': 4,\n",
       "   'music': {},\n",
       "   'share_info': {'share_desc': '心若被困，天下处处是牢笼；心之所安，矮瓦斗室也是人间天堂。#音乐 #你的奋斗终将伟大 .@抖音小助手',\n",
       "    'share_title': '@抖音玩家发了一个抖音短视频，你尽管点开，不好看算我输！',\n",
       "    'share_url': 'https://www.amemv.com/share/video/6664141060794535175',\n",
       "    'share_weibo_desc': '#在抖音，记录美好生活# @抖音玩家 发了一个抖音短视频，你尽管点开，不好看算我输！戳这里>>'},\n",
       "   'share_url': '',\n",
       "   'statistics': {'aweme_id': '6664141060794535175',\n",
       "    'digg_count': '1.5w',\n",
       "    'forward_count': 0},\n",
       "   'text_extra': [{'end': 50, 'start': 44, 'type': 0, 'user_id': '6796248446'},\n",
       "    {'end': 32, 'hashtag_name': '音乐', 'start': 29, 'type': 1},\n",
       "    {'end': 42, 'hashtag_name': '你的奋斗终将伟大', 'start': 33, 'type': 1}],\n",
       "   'video': {'cover': {'uri': 'large/1bcb80003346c1838bd6b',\n",
       "     'url_list': ['https://p1.pstatp.com/large/1bcb80003346c1838bd6b.jpg',\n",
       "      'https://pb3.pstatp.com/large/1bcb80003346c1838bd6b.jpg',\n",
       "      'https://pb3.pstatp.com/large/1bcb80003346c1838bd6b.jpg']},\n",
       "    'dynamic_cover': {'uri': '1bce300006bc30ed84b50',\n",
       "     'url_list': ['http://p3.pstatp.com/obj/1bce300006bc30ed84b50',\n",
       "      'http://pb9.pstatp.com/obj/1bce300006bc30ed84b50',\n",
       "      'http://pb3.pstatp.com/obj/1bce300006bc30ed84b50']},\n",
       "    'height': 1280,\n",
       "    'play_addr': {'uri': 'v0300f210000bhufotjipkv28ipp62jg',\n",
       "     'url_list': ['https://aweme.snssdk.com/aweme/v1/playwm/?video_id=v0300f210000bhufotjipkv28ipp62jg&line=0',\n",
       "      'https://aweme.snssdk.com/aweme/v1/playwm/?video_id=v0300f210000bhufotjipkv28ipp62jg&line=1']},\n",
       "    'width': 720}},\n",
       "  {'author': {},\n",
       "   'aweme_id': '6663683596248861956',\n",
       "   'aweme_type': 0,\n",
       "   'cha_list': {},\n",
       "   'media_type': 4,\n",
       "   'music': {},\n",
       "   'share_info': {'share_desc': '那些年，满大街都在放的歌，你还记得吗？#音乐 #回忆 #开学来电',\n",
       "    'share_title': '@抖音玩家发了一个抖音短视频，你尽管点开，不好看算我输！',\n",
       "    'share_url': 'https://www.amemv.com/share/video/6663683596248861956',\n",
       "    'share_weibo_desc': '#在抖音，记录美好生活# @抖音玩家 发了一个抖音短视频，你尽管点开，不好看算我输！戳这里>>'},\n",
       "   'share_url': '',\n",
       "   'statistics': {'aweme_id': '6663683596248861956',\n",
       "    'digg_count': 9532,\n",
       "    'forward_count': 0},\n",
       "   'text_extra': [{'end': 22, 'hashtag_name': '音乐', 'start': 19, 'type': 1},\n",
       "    {'end': 26, 'hashtag_name': '回忆', 'start': 23, 'type': 1},\n",
       "    {'end': 32, 'hashtag_name': '开学来电', 'start': 27, 'type': 1}],\n",
       "   'video': {'cover': {'uri': 'large/1bb8d0000792098c1ce63',\n",
       "     'url_list': ['https://p1.pstatp.com/large/1bb8d0000792098c1ce63.jpg',\n",
       "      'https://pb3.pstatp.com/large/1bb8d0000792098c1ce63.jpg',\n",
       "      'https://pb3.pstatp.com/large/1bb8d0000792098c1ce63.jpg']},\n",
       "    'dynamic_cover': {'uri': '1b6db00070f1eb7c72cf7',\n",
       "     'url_list': ['http://p9.pstatp.com/obj/1b6db00070f1eb7c72cf7',\n",
       "      'http://pb1.pstatp.com/obj/1b6db00070f1eb7c72cf7',\n",
       "      'http://pb3.pstatp.com/obj/1b6db00070f1eb7c72cf7']},\n",
       "    'height': 1280,\n",
       "    'play_addr': {'uri': 'v0200f810000bhtkto0nrm1vktlc8khg',\n",
       "     'url_list': ['https://aweme.snssdk.com/aweme/v1/playwm/?video_id=v0200f810000bhtkto0nrm1vktlc8khg&line=0',\n",
       "      'https://aweme.snssdk.com/aweme/v1/playwm/?video_id=v0200f810000bhtkto0nrm1vktlc8khg&line=1']},\n",
       "    'width': 720}},\n",
       "  {'author': {},\n",
       "   'aweme_id': '6663419746098138376',\n",
       "   'aweme_type': 0,\n",
       "   'cha_list': {},\n",
       "   'media_type': 4,\n",
       "   'music': {},\n",
       "   'share_info': {'share_desc': '许多时候，让我们放不下的，其实并不是对方，而是那些逝去的共同回忆。#音乐 #回忆 #开学来电',\n",
       "    'share_title': '@抖音玩家发了一个抖音短视频，你尽管点开，不好看算我输！',\n",
       "    'share_url': 'https://www.amemv.com/share/video/6663419746098138376',\n",
       "    'share_weibo_desc': '#在抖音，记录美好生活# @抖音玩家 发了一个抖音短视频，你尽管点开，不好看算我输！戳这里>>'},\n",
       "   'share_url': '',\n",
       "   'statistics': {'aweme_id': '6663419746098138376',\n",
       "    'digg_count': '1.6w',\n",
       "    'forward_count': 0},\n",
       "   'text_extra': [{'end': 36, 'hashtag_name': '音乐', 'start': 33, 'type': 1},\n",
       "    {'end': 40, 'hashtag_name': '回忆', 'start': 37, 'type': 1},\n",
       "    {'end': 46, 'hashtag_name': '开学来电', 'start': 41, 'type': 1}],\n",
       "   'video': {'cover': {'uri': 'large/1ba40000184c4083c7fc6',\n",
       "     'url_list': ['https://p1.pstatp.com/large/1ba40000184c4083c7fc6.jpg',\n",
       "      'https://pb3.pstatp.com/large/1ba40000184c4083c7fc6.jpg',\n",
       "      'https://pb3.pstatp.com/large/1ba40000184c4083c7fc6.jpg']},\n",
       "    'dynamic_cover': {'uri': '1b8a9000a1b7fde59755c',\n",
       "     'url_list': ['http://p3.pstatp.com/obj/1b8a9000a1b7fde59755c',\n",
       "      'http://pb9.pstatp.com/obj/1b8a9000a1b7fde59755c',\n",
       "      'http://pb3.pstatp.com/obj/1b8a9000a1b7fde59755c']},\n",
       "    'height': 1280,\n",
       "    'play_addr': {'uri': 'v0300f210000bht67hub5h2t7ajhqts0',\n",
       "     'url_list': ['https://aweme.snssdk.com/aweme/v1/playwm/?video_id=v0300f210000bht67hub5h2t7ajhqts0&line=0',\n",
       "      'https://aweme.snssdk.com/aweme/v1/playwm/?video_id=v0300f210000bht67hub5h2t7ajhqts0&line=1']},\n",
       "    'width': 720}},\n",
       "  {'author': {},\n",
       "   'aweme_id': '6662958019925609732',\n",
       "   'aweme_type': 0,\n",
       "   'cha_list': {},\n",
       "   'media_type': 4,\n",
       "   'music': {},\n",
       "   'share_info': {'share_desc': '问青天人生有几何，下辈子，让我先遇见你，好吗？#小女花不弃东方炻',\n",
       "    'share_title': '@抖音玩家发了一个抖音短视频，你尽管点开，不好看算我输！',\n",
       "    'share_url': 'https://www.amemv.com/share/video/6662958019925609732',\n",
       "    'share_weibo_desc': '#在抖音，记录美好生活# @抖音玩家 发了一个抖音短视频，你尽管点开，不好看算我输！戳这里>>'},\n",
       "   'share_url': '',\n",
       "   'statistics': {'aweme_id': '6662958019925609732',\n",
       "    'digg_count': '10.1w',\n",
       "    'forward_count': 0},\n",
       "   'text_extra': [{'end': 32,\n",
       "     'hashtag_name': '小女花不弃东方炻',\n",
       "     'start': 23,\n",
       "     'type': 1}],\n",
       "   'video': {'cover': {'uri': 'large/1b8d30004903a91d4d117',\n",
       "     'url_list': ['https://p3.pstatp.com/large/1b8d30004903a91d4d117.jpg',\n",
       "      'https://pb9.pstatp.com/large/1b8d30004903a91d4d117.jpg',\n",
       "      'https://pb3.pstatp.com/large/1b8d30004903a91d4d117.jpg']},\n",
       "    'dynamic_cover': {'uri': '1b8ec00028c19c7bc6069',\n",
       "     'url_list': ['http://p9.pstatp.com/obj/1b8ec00028c19c7bc6069',\n",
       "      'http://pb1.pstatp.com/obj/1b8ec00028c19c7bc6069',\n",
       "      'http://pb3.pstatp.com/obj/1b8ec00028c19c7bc6069']},\n",
       "    'height': 1280,\n",
       "    'play_addr': {'uri': 'v0300fef0000bhrqkm4qg2lc15jjviag',\n",
       "     'url_list': ['https://aweme.snssdk.com/aweme/v1/playwm/?video_id=v0300fef0000bhrqkm4qg2lc15jjviag&line=0',\n",
       "      'https://aweme.snssdk.com/aweme/v1/playwm/?video_id=v0300fef0000bhrqkm4qg2lc15jjviag&line=1']},\n",
       "    'width': 720}},\n",
       "  {'author': {},\n",
       "   'aweme_id': '6662620415065689356',\n",
       "   'aweme_type': 0,\n",
       "   'cha_list': {},\n",
       "   'media_type': 4,\n",
       "   'music': {},\n",
       "   'share_info': {'share_desc': '人海茫茫，值得你爱的，和爱你的人，绝不止一个。#音乐 .@抖音小助手',\n",
       "    'share_title': '@抖音玩家发了一个抖音短视频，你尽管点开，不好看算我输！',\n",
       "    'share_url': 'https://www.amemv.com/share/video/6662620415065689356',\n",
       "    'share_weibo_desc': '#在抖音，记录美好生活# @抖音玩家 发了一个抖音短视频，你尽管点开，不好看算我输！戳这里>>'},\n",
       "   'share_url': '',\n",
       "   'statistics': {'aweme_id': '6662620415065689356',\n",
       "    'digg_count': '6.6w',\n",
       "    'forward_count': 0},\n",
       "   'text_extra': [{'end': 34, 'start': 28, 'type': 0, 'user_id': '6796248446'},\n",
       "    {'end': 26, 'hashtag_name': '音乐', 'start': 23, 'type': 1}],\n",
       "   'video': {'cover': {'uri': 'large/1b7c800020b0a8551ee71',\n",
       "     'url_list': ['https://p1.pstatp.com/large/1b7c800020b0a8551ee71.jpg',\n",
       "      'https://pb3.pstatp.com/large/1b7c800020b0a8551ee71.jpg',\n",
       "      'https://pb3.pstatp.com/large/1b7c800020b0a8551ee71.jpg']},\n",
       "    'dynamic_cover': {'uri': '1b4010007dadda1e7d5e4',\n",
       "     'url_list': ['http://p1.pstatp.com/obj/1b4010007dadda1e7d5e4',\n",
       "      'http://pb3.pstatp.com/obj/1b4010007dadda1e7d5e4',\n",
       "      'http://pb3.pstatp.com/obj/1b4010007dadda1e7d5e4']},\n",
       "    'height': 1280,\n",
       "    'play_addr': {'uri': 'v0300fef0000bhr6hrncf8jfqmg97530',\n",
       "     'url_list': ['https://aweme.snssdk.com/aweme/v1/playwm/?video_id=v0300fef0000bhr6hrncf8jfqmg97530&line=0',\n",
       "      'https://aweme.snssdk.com/aweme/v1/playwm/?video_id=v0300fef0000bhr6hrncf8jfqmg97530&line=1']},\n",
       "    'width': 720}},\n",
       "  {'author': {},\n",
       "   'aweme_id': '6661944878127222027',\n",
       "   'aweme_type': 0,\n",
       "   'cha_list': {},\n",
       "   'media_type': 4,\n",
       "   'music': {},\n",
       "   'share_info': {'share_desc': '听一遍就会爱上的粤语歌曲，你们喜欢嘛？@抖音小助手',\n",
       "    'share_title': '@抖音玩家发了一个抖音短视频，你尽管点开，不好看算我输！',\n",
       "    'share_url': 'https://www.amemv.com/share/video/6661944878127222027',\n",
       "    'share_weibo_desc': '#在抖音，记录美好生活# @抖音玩家 发了一个抖音短视频，你尽管点开，不好看算我输！戳这里>>'},\n",
       "   'share_url': '',\n",
       "   'statistics': {'aweme_id': '6661944878127222027',\n",
       "    'digg_count': '1.1w',\n",
       "    'forward_count': 0},\n",
       "   'text_extra': [{'end': 25,\n",
       "     'start': 19,\n",
       "     'type': 0,\n",
       "     'user_id': '6796248446'}],\n",
       "   'video': {'cover': {'uri': 'large/1b6c70004e5f449102c7a',\n",
       "     'url_list': ['https://p1.pstatp.com/large/1b6c70004e5f449102c7a.jpg',\n",
       "      'https://pb3.pstatp.com/large/1b6c70004e5f449102c7a.jpg',\n",
       "      'https://pb3.pstatp.com/large/1b6c70004e5f449102c7a.jpg']},\n",
       "    'dynamic_cover': {'uri': '1b3100004809e022636af',\n",
       "     'url_list': ['http://p1.pstatp.com/obj/1b3100004809e022636af',\n",
       "      'http://pb3.pstatp.com/obj/1b3100004809e022636af',\n",
       "      'http://pb3.pstatp.com/obj/1b3100004809e022636af']},\n",
       "    'height': 1280,\n",
       "    'play_addr': {'uri': 'v0300f250000bhqj84ue89pa6taksrdg',\n",
       "     'url_list': ['https://aweme.snssdk.com/aweme/v1/playwm/?video_id=v0300f250000bhqj84ue89pa6taksrdg&line=0',\n",
       "      'https://aweme.snssdk.com/aweme/v1/playwm/?video_id=v0300f250000bhqj84ue89pa6taksrdg&line=1']},\n",
       "    'width': 720}},\n",
       "  {'author': {},\n",
       "   'aweme_id': '6660802454201961740',\n",
       "   'aweme_type': 0,\n",
       "   'cha_list': {},\n",
       "   'media_type': 4,\n",
       "   'music': {},\n",
       "   'share_info': {'share_desc': '#张杰 穿透内心，直击灵魂的声音！#音乐 #',\n",
       "    'share_title': '@抖音玩家发了一个抖音短视频，你尽管点开，不好看算我输！',\n",
       "    'share_url': 'https://www.amemv.com/share/video/6660802454201961740',\n",
       "    'share_weibo_desc': '#在抖音，记录美好生活# @抖音玩家 发了一个抖音短视频，你尽管点开，不好看算我输！戳这里>>'},\n",
       "   'share_url': '',\n",
       "   'statistics': {'aweme_id': '6660802454201961740',\n",
       "    'digg_count': '1.2w',\n",
       "    'forward_count': 0},\n",
       "   'text_extra': [{'end': 3, 'hashtag_name': '张杰', 'start': 0, 'type': 1},\n",
       "    {'end': 20, 'hashtag_name': '音乐', 'start': 17, 'type': 1}],\n",
       "   'video': {'cover': {'uri': 'large/1b1130001a3c7a8380768',\n",
       "     'url_list': ['https://p1.pstatp.com/large/1b1130001a3c7a8380768.jpg',\n",
       "      'https://pb3.pstatp.com/large/1b1130001a3c7a8380768.jpg',\n",
       "      'https://pb3.pstatp.com/large/1b1130001a3c7a8380768.jpg']},\n",
       "    'dynamic_cover': {'uri': '1b14800027aa0851c7c70',\n",
       "     'url_list': ['http://p1.pstatp.com/obj/1b14800027aa0851c7c70',\n",
       "      'http://pb3.pstatp.com/obj/1b14800027aa0851c7c70',\n",
       "      'http://pb3.pstatp.com/obj/1b14800027aa0851c7c70']},\n",
       "    'height': 1280,\n",
       "    'play_addr': {'uri': 'v0300f250000bhohs34qg2lcsc3tu4t0',\n",
       "     'url_list': ['https://aweme.snssdk.com/aweme/v1/playwm/?video_id=v0300f250000bhohs34qg2lcsc3tu4t0&line=0',\n",
       "      'https://aweme.snssdk.com/aweme/v1/playwm/?video_id=v0300f250000bhohs34qg2lcsc3tu4t0&line=1']},\n",
       "    'width': 720}},\n",
       "  {'author': {},\n",
       "   'aweme_id': '6659659096066706695',\n",
       "   'aweme_type': 0,\n",
       "   'cha_list': {},\n",
       "   'media_type': 4,\n",
       "   'music': {},\n",
       "   'share_info': {'share_desc': '#魔鬼中的天使 尽管叫我疯子，不准叫我傻子！！！',\n",
       "    'share_title': '@抖音玩家发了一个抖音短视频，你尽管点开，不好看算我输！',\n",
       "    'share_url': 'https://www.amemv.com/share/video/6659659096066706695',\n",
       "    'share_weibo_desc': '#在抖音，记录美好生活# @抖音玩家 发了一个抖音短视频，你尽管点开，不好看算我输！戳这里>>'},\n",
       "   'share_url': '',\n",
       "   'statistics': {'aweme_id': '6659659096066706695',\n",
       "    'digg_count': 8172,\n",
       "    'forward_count': 0},\n",
       "   'text_extra': [{'end': 7, 'hashtag_name': '魔鬼中的天使', 'start': 0, 'type': 1}],\n",
       "   'video': {'cover': {'uri': 'large/1add20008a81647b2ddca',\n",
       "     'url_list': ['https://p9.pstatp.com/large/1add20008a81647b2ddca.jpg',\n",
       "      'https://pb1.pstatp.com/large/1add20008a81647b2ddca.jpg',\n",
       "      'https://pb3.pstatp.com/large/1add20008a81647b2ddca.jpg']},\n",
       "    'dynamic_cover': {'uri': '1ae5700032ff781b0fb06',\n",
       "     'url_list': ['http://p1.pstatp.com/obj/1ae5700032ff781b0fb06',\n",
       "      'http://pb3.pstatp.com/obj/1ae5700032ff781b0fb06',\n",
       "      'http://pb3.pstatp.com/obj/1ae5700032ff781b0fb06']},\n",
       "    'height': 1280,\n",
       "    'play_addr': {'uri': 'v0200fdc0000bhmhlj4eae15mugaqt90',\n",
       "     'url_list': ['https://aweme.snssdk.com/aweme/v1/playwm/?video_id=v0200fdc0000bhmhlj4eae15mugaqt90&line=0',\n",
       "      'https://aweme.snssdk.com/aweme/v1/playwm/?video_id=v0200fdc0000bhmhlj4eae15mugaqt90&line=1']},\n",
       "    'width': 720}},\n",
       "  {'author': {},\n",
       "   'aweme_id': '6658151714262191368',\n",
       "   'aweme_type': 0,\n",
       "   'cha_list': {},\n",
       "   'media_type': 4,\n",
       "   'music': {},\n",
       "   'share_info': {'share_desc': '当我优秀得足够让你不会离我而去时，我已经不再非你不可了。',\n",
       "    'share_title': '@抖音玩家发了一个抖音短视频，你尽管点开，不好看算我输！',\n",
       "    'share_url': 'https://www.amemv.com/share/video/6658151714262191368',\n",
       "    'share_weibo_desc': '#在抖音，记录美好生活# @抖音玩家 发了一个抖音短视频，你尽管点开，不好看算我输！戳这里>>'},\n",
       "   'share_url': '',\n",
       "   'statistics': {'aweme_id': '6658151714262191368',\n",
       "    'digg_count': '4.6w',\n",
       "    'forward_count': 0},\n",
       "   'text_extra': [],\n",
       "   'video': {'cover': {'uri': 'large/1a8fc000cea0cfa3ad8f3',\n",
       "     'url_list': ['https://p1.pstatp.com/large/1a8fc000cea0cfa3ad8f3.jpg',\n",
       "      'https://pb3.pstatp.com/large/1a8fc000cea0cfa3ad8f3.jpg',\n",
       "      'https://pb3.pstatp.com/large/1a8fc000cea0cfa3ad8f3.jpg']},\n",
       "    'dynamic_cover': {'uri': '1a99a000af51985ba67dc',\n",
       "     'url_list': ['http://p1.pstatp.com/obj/1a99a000af51985ba67dc',\n",
       "      'http://pb3.pstatp.com/obj/1a99a000af51985ba67dc',\n",
       "      'http://pb3.pstatp.com/obj/1a99a000af51985ba67dc']},\n",
       "    'height': 1280,\n",
       "    'play_addr': {'uri': 'v0300fc50000bhkejfl4m4mrcmrcidbg',\n",
       "     'url_list': ['https://aweme.snssdk.com/aweme/v1/playwm/?video_id=v0300fc50000bhkejfl4m4mrcmrcidbg&line=0',\n",
       "      'https://aweme.snssdk.com/aweme/v1/playwm/?video_id=v0300fc50000bhkejfl4m4mrcmrcidbg&line=1']},\n",
       "    'width': 720}},\n",
       "  {'author': {},\n",
       "   'aweme_id': '6656032003433008398',\n",
       "   'aweme_type': 0,\n",
       "   'cha_list': {},\n",
       "   'media_type': 4,\n",
       "   'music': {},\n",
       "   'share_info': {'share_desc': '#清明上河图 最近被这首歌洗脑了🙈#李玉刚 @抖音小助手',\n",
       "    'share_title': '@抖音玩家发了一个抖音短视频，你尽管点开，不好看算我输！',\n",
       "    'share_url': 'https://www.amemv.com/share/video/6656032003433008398',\n",
       "    'share_weibo_desc': '#在抖音，记录美好生活# @抖音玩家 发了一个抖音短视频，你尽管点开，不好看算我输！戳这里>>'},\n",
       "   'share_url': '',\n",
       "   'statistics': {'aweme_id': '6656032003433008398',\n",
       "    'digg_count': 9629,\n",
       "    'forward_count': 0},\n",
       "   'text_extra': [{'end': 6, 'hashtag_name': '清明上河图', 'start': 0, 'type': 1},\n",
       "    {'end': 22, 'hashtag_name': '李玉刚', 'start': 18, 'type': 1}],\n",
       "   'video': {'cover': {'uri': 'large/1a1f9000e628f8d93c8c7',\n",
       "     'url_list': ['https://p9.pstatp.com/large/1a1f9000e628f8d93c8c7.jpg',\n",
       "      'https://pb1.pstatp.com/large/1a1f9000e628f8d93c8c7.jpg',\n",
       "      'https://pb3.pstatp.com/large/1a1f9000e628f8d93c8c7.jpg']},\n",
       "    'dynamic_cover': {'uri': '1a2a3000b0114c607059f',\n",
       "     'url_list': ['http://p3.pstatp.com/obj/1a2a3000b0114c607059f',\n",
       "      'http://pb9.pstatp.com/obj/1a2a3000b0114c607059f',\n",
       "      'http://pb3.pstatp.com/obj/1a2a3000b0114c607059f']},\n",
       "    'height': 1280,\n",
       "    'play_addr': {'uri': 'v0300fbd0000bhhnm93bdg8gdquhctbg',\n",
       "     'url_list': ['https://aweme.snssdk.com/aweme/v1/playwm/?video_id=v0300fbd0000bhhnm93bdg8gdquhctbg&line=0',\n",
       "      'https://aweme.snssdk.com/aweme/v1/playwm/?video_id=v0300fbd0000bhhnm93bdg8gdquhctbg&line=1']},\n",
       "    'width': 720}},\n",
       "  {'author': {},\n",
       "   'aweme_id': '6654831641699142915',\n",
       "   'aweme_type': 0,\n",
       "   'cha_list': {},\n",
       "   'media_type': 4,\n",
       "   'music': {},\n",
       "   'share_info': {'share_desc': '听懂的是故事，听不懂的是幸运！.@抖音小助手 #音乐',\n",
       "    'share_title': '@抖音玩家发了一个抖音短视频，你尽管点开，不好看算我输！',\n",
       "    'share_url': 'https://www.amemv.com/share/video/6654831641699142915',\n",
       "    'share_weibo_desc': '#在抖音，记录美好生活# @抖音玩家 发了一个抖音短视频，你尽管点开，不好看算我输！戳这里>>'},\n",
       "   'share_url': '',\n",
       "   'statistics': {'aweme_id': '6654831641699142915',\n",
       "    'digg_count': 9788,\n",
       "    'forward_count': 0},\n",
       "   'text_extra': [{'end': 22, 'start': 16, 'type': 0, 'user_id': '6796248446'},\n",
       "    {'end': 26, 'hashtag_name': '音乐', 'start': 23, 'type': 1}],\n",
       "   'video': {'cover': {'uri': 'large/170000007d96fec7abbe5',\n",
       "     'url_list': ['https://p1.pstatp.com/large/170000007d96fec7abbe5.jpg',\n",
       "      'https://pb3.pstatp.com/large/170000007d96fec7abbe5.jpg',\n",
       "      'https://pb3.pstatp.com/large/170000007d96fec7abbe5.jpg']},\n",
       "    'dynamic_cover': {'uri': '17132000c99456eef4564',\n",
       "     'url_list': ['http://p3.pstatp.com/obj/17132000c99456eef4564',\n",
       "      'http://pb9.pstatp.com/obj/17132000c99456eef4564',\n",
       "      'http://pb3.pstatp.com/obj/17132000c99456eef4564']},\n",
       "    'height': 1280,\n",
       "    'play_addr': {'uri': 'v0300fbd0000bhfvsju0gektopti8qdg',\n",
       "     'url_list': ['https://aweme.snssdk.com/aweme/v1/playwm/?video_id=v0300fbd0000bhfvsju0gektopti8qdg&line=0',\n",
       "      'https://aweme.snssdk.com/aweme/v1/playwm/?video_id=v0300fbd0000bhfvsju0gektopti8qdg&line=1']},\n",
       "    'width': 720}}],\n",
       " 'has_more': 1,\n",
       " 'max_cursor': 1549626013000,\n",
       " 'min_cursor': 1551880823000,\n",
       " 'status_code': 0}"
      ]
     },
     "execution_count": 28,
     "metadata": {},
     "output_type": "execute_result"
    }
   ],
   "source": [
    "hjson"
   ]
  },
  {
   "cell_type": "markdown",
   "metadata": {},
   "source": [
    "# 读取json里包含的视频的url"
   ]
  },
  {
   "cell_type": "code",
   "execution_count": 29,
   "metadata": {
    "collapsed": false
   },
   "outputs": [
    {
     "name": "stdout",
     "output_type": "stream",
     "text": [
      "16 已经没有数据了！\n"
     ]
    }
   ],
   "source": [
    "links = []\n",
    "try:\n",
    "    for i in range(1000):\n",
    "        links.append(hjson['aweme_list'][i]['video']\n",
    "                     ['play_addr']['url_list'][1])\n",
    "except:\n",
    "    print(i, '已经没有数据了！')"
   ]
  },
  {
   "cell_type": "markdown",
   "metadata": {},
   "source": [
    "# 定义爬取抖音mp4的函数"
   ]
  },
  {
   "cell_type": "code",
   "execution_count": 30,
   "metadata": {
    "code_folding": [],
    "collapsed": true
   },
   "outputs": [],
   "source": [
    "def get_Mp4(url):\n",
    "    try:\n",
    "        r = urllib.request.Request(url)\n",
    "        user_agent = 'Mozilla/5.0 (iPhone; CPU iPhone OS 11_0 like Mac OS X) AppleWebKit/604.1.38 (KHTML, like Gecko) Version/11.0 Mobile/15A372 Safari/604.1'\n",
    "        cookie = 'tt_webid=6661489703391446541; _ba=BA0.2-20190224-5199e-D7C8xfEkeojoFAyMN7BC; _ga=GA1.2.314140063.1550998952; _gid=GA1.2.1300975907.1550998952'\n",
    "        r.add_header('User-Agent', user_agent)\n",
    "        r.add_header('Cookie', cookie)\n",
    "        html = urllib.request.urlopen(r, timeout=500).read()\n",
    "    except:\n",
    "        return ''\n",
    "    return html"
   ]
  },
  {
   "cell_type": "markdown",
   "metadata": {},
   "source": [
    "# 迭代获取多个mp4"
   ]
  },
  {
   "cell_type": "code",
   "execution_count": 31,
   "metadata": {
    "collapsed": false
   },
   "outputs": [
    {
     "ename": "TypeError",
     "evalue": "a bytes-like object is required, not 'str'",
     "output_type": "error",
     "traceback": [
      "\u001b[1;31m---------------------------------------------------------------------------\u001b[0m",
      "\u001b[1;31mTypeError\u001b[0m                                 Traceback (most recent call last)",
      "\u001b[1;32m<ipython-input-31-c3895c81d137>\u001b[0m in \u001b[0;36m<module>\u001b[1;34m()\u001b[0m\n\u001b[0;32m      2\u001b[0m     \u001b[0mmp4\u001b[0m \u001b[1;33m=\u001b[0m \u001b[0mget_Mp4\u001b[0m\u001b[1;33m(\u001b[0m\u001b[0murl\u001b[0m\u001b[1;33m)\u001b[0m\u001b[1;33m\u001b[0m\u001b[0m\n\u001b[0;32m      3\u001b[0m     \u001b[1;32mwith\u001b[0m \u001b[0mopen\u001b[0m\u001b[1;33m(\u001b[0m\u001b[1;34m'music/'\u001b[0m\u001b[1;33m+\u001b[0m\u001b[0mstr\u001b[0m\u001b[1;33m(\u001b[0m\u001b[0mi\u001b[0m\u001b[1;33m+\u001b[0m\u001b[1;36m467\u001b[0m\u001b[1;33m)\u001b[0m\u001b[1;33m+\u001b[0m\u001b[1;34m'.mp4'\u001b[0m\u001b[1;33m,\u001b[0m \u001b[1;34m'wb'\u001b[0m\u001b[1;33m)\u001b[0m \u001b[1;32mas\u001b[0m \u001b[0mf\u001b[0m\u001b[1;33m:\u001b[0m\u001b[1;33m\u001b[0m\u001b[0m\n\u001b[1;32m----> 4\u001b[1;33m         \u001b[0mf\u001b[0m\u001b[1;33m.\u001b[0m\u001b[0mwrite\u001b[0m\u001b[1;33m(\u001b[0m\u001b[0mmp4\u001b[0m\u001b[1;33m)\u001b[0m\u001b[1;33m\u001b[0m\u001b[0m\n\u001b[0m",
      "\u001b[1;31mTypeError\u001b[0m: a bytes-like object is required, not 'str'"
     ]
    }
   ],
   "source": [
    "for i, url in enumerate(links):\n",
    "    mp4 = get_Mp4(url)\n",
    "    with open('music/'+str(i+467)+'.mp4', 'wb') as f:\n",
    "        f.write(mp4)"
   ]
  },
  {
   "cell_type": "markdown",
   "metadata": {},
   "source": [
    "# 使用moviepy的VideoFileClip()读取文件夹下的mp4文件"
   ]
  },
  {
   "cell_type": "code",
   "execution_count": null,
   "metadata": {
    "collapsed": true
   },
   "outputs": [],
   "source": [
    "L = []\n",
    "for i in range(22,43):\n",
    "    mp4 = VideoFileClip(str(i)+'.mp4')\n",
    "    L.append(mp4)"
   ]
  },
  {
   "cell_type": "code",
   "execution_count": 27,
   "metadata": {
    "collapsed": false,
    "scrolled": true
   },
   "outputs": [
    {
     "data": {
      "text/plain": [
       "[]"
      ]
     },
     "execution_count": 27,
     "metadata": {},
     "output_type": "execute_result"
    }
   ],
   "source": [
    "L"
   ]
  },
  {
   "cell_type": "markdown",
   "metadata": {},
   "source": [
    "# 查看每个mp4文件的尺寸"
   ]
  },
  {
   "cell_type": "code",
   "execution_count": 24,
   "metadata": {
    "collapsed": false,
    "scrolled": true
   },
   "outputs": [
    {
     "name": "stdout",
     "output_type": "stream",
     "text": [
      "[720, 1280]\n",
      "[720, 1280]\n",
      "[720, 1280]\n",
      "[720, 1280]\n",
      "[720, 1280]\n",
      "[720, 1280]\n",
      "[720, 1280]\n",
      "[720, 1280]\n",
      "[720, 1280]\n",
      "[720, 1280]\n",
      "[720, 1280]\n",
      "[720, 1280]\n",
      "[720, 1280]\n",
      "[720, 1280]\n",
      "[720, 1280]\n",
      "[540, 960]\n",
      "[720, 1280]\n"
     ]
    }
   ],
   "source": [
    "for i in L:\n",
    "    print(i.size)"
   ]
  },
  {
   "cell_type": "markdown",
   "metadata": {},
   "source": [
    "# 统一mp4的尺寸"
   ]
  },
  {
   "cell_type": "code",
   "execution_count": 25,
   "metadata": {
    "collapsed": true
   },
   "outputs": [],
   "source": [
    "L1 = []\n",
    "for i in L:\n",
    "    i = i.resize([720, 1280])\n",
    "    L1.append(i)"
   ]
  },
  {
   "cell_type": "markdown",
   "metadata": {},
   "source": [
    "# 合并mp4"
   ]
  },
  {
   "cell_type": "code",
   "execution_count": 26,
   "metadata": {
    "collapsed": false
   },
   "outputs": [
    {
     "name": "stdout",
     "output_type": "stream",
     "text": [
      "Moviepy - Building video 抖音串烧音乐5.mp4.\n",
      "MoviePy - Writing audio in %s\n"
     ]
    },
    {
     "name": "stderr",
     "output_type": "stream",
     "text": [
      "                                                                               \r"
     ]
    },
    {
     "name": "stdout",
     "output_type": "stream",
     "text": [
      "MoviePy - Done.\n",
      "Moviepy - Writing video 抖音串烧音乐5.mp4\n",
      "\n"
     ]
    },
    {
     "name": "stderr",
     "output_type": "stream",
     "text": [
      "                                                                               \r"
     ]
    },
    {
     "name": "stdout",
     "output_type": "stream",
     "text": [
      "Moviepy - Done !\n",
      "Moviepy - video ready 抖音串烧音乐5.mp4\n"
     ]
    }
   ],
   "source": [
    "mp4_conbine = concatenate_videoclips(L)\n",
    "mp4_conbine.to_videofile(\"抖音串烧音乐5.mp4\", fps=24, remove_temp=False)"
   ]
  },
  {
   "cell_type": "code",
   "execution_count": null,
   "metadata": {
    "collapsed": true
   },
   "outputs": [],
   "source": []
  }
 ],
 "metadata": {
  "kernelspec": {
   "display_name": "Python 3",
   "language": "python",
   "name": "python3"
  },
  "language_info": {
   "codemirror_mode": {
    "name": "ipython",
    "version": 3
   },
   "file_extension": ".py",
   "mimetype": "text/x-python",
   "name": "python",
   "nbconvert_exporter": "python",
   "pygments_lexer": "ipython3",
   "version": "3.5.1"
  },
  "toc": {
   "base_numbering": 1,
   "nav_menu": {},
   "number_sections": true,
   "sideBar": true,
   "skip_h1_title": false,
   "title_cell": "Table of Contents",
   "title_sidebar": "Contents",
   "toc_cell": false,
   "toc_position": {
    "height": "calc(100% - 180px)",
    "left": "10px",
    "top": "150px",
    "width": "273px"
   },
   "toc_section_display": true,
   "toc_window_display": true
  }
 },
 "nbformat": 4,
 "nbformat_minor": 2
}
